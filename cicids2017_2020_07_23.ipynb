{
  "nbformat": 4,
  "nbformat_minor": 0,
  "metadata": {
    "colab": {
      "name": "cicids2017_2020_07_23.ipynb",
      "provenance": [],
      "collapsed_sections": [],
      "authorship_tag": "ABX9TyM0nnbybDChS4ePQONe7hlU",
      "include_colab_link": true
    },
    "kernelspec": {
      "name": "python3",
      "display_name": "Python 3"
    },
    "accelerator": "GPU"
  },
  "cells": [
    {
      "cell_type": "markdown",
      "metadata": {
        "id": "view-in-github",
        "colab_type": "text"
      },
      "source": [
        "<a href=\"https://colab.research.google.com/github/vintagedeek/CICIDS2017/blob/master/cicids2017_2020_07_23.ipynb\" target=\"_parent\"><img src=\"https://colab.research.google.com/assets/colab-badge.svg\" alt=\"Open In Colab\"/></a>"
      ]
    },
    {
      "cell_type": "code",
      "metadata": {
        "id": "1pBzXZvsv7B9",
        "colab_type": "code",
        "colab": {}
      },
      "source": [
        "import pandas as pd\n",
        "import numpy as np\n",
        "\n",
        "from collections import OrderedDict, namedtuple\n",
        "from itertools import product\n",
        "import time\n",
        "from IPython.display import display, clear_output\n",
        "import json\n",
        "\n",
        "import torch \n",
        "from torchvision.transforms import Normalize\n",
        "import torch.nn as nn \n",
        "import torch.optim as optim\n",
        "import torch.nn.functional as F\n",
        "\n",
        "from scipy.ndimage.interpolation import shift\n",
        "from PIL import Image\n",
        "\n",
        "import seaborn as sns\n",
        "sns.set_style('whitegrid')\n",
        "%matplotlib inline\n",
        "import matplotlib.pyplot as plt\n",
        "import matplotlib as mpl\n",
        "plt.style.use('seaborn-whitegrid')"
      ],
      "execution_count": 74,
      "outputs": []
    },
    {
      "cell_type": "code",
      "metadata": {
        "id": "zFwJ2ymAwMTT",
        "colab_type": "code",
        "colab": {}
      },
      "source": [
        "train_url = 'https://raw.githubusercontent.com/r-dube/CICIDS2017/master/MachineLearningCVE/processed/bal-cicids2017.csv'\n",
        "df_train = pd.read_csv(train_url)"
      ],
      "execution_count": 119,
      "outputs": []
    },
    {
      "cell_type": "code",
      "metadata": {
        "id": "EyXMG7QcwbcB",
        "colab_type": "code",
        "colab": {
          "base_uri": "https://localhost:8080/",
          "height": 218
        },
        "outputId": "05ad443f-899a-4fe6-b67d-6d585f5cb899"
      },
      "source": [
        "df_train.head()"
      ],
      "execution_count": 120,
      "outputs": [
        {
          "output_type": "execute_result",
          "data": {
            "text/html": [
              "<div>\n",
              "<style scoped>\n",
              "    .dataframe tbody tr th:only-of-type {\n",
              "        vertical-align: middle;\n",
              "    }\n",
              "\n",
              "    .dataframe tbody tr th {\n",
              "        vertical-align: top;\n",
              "    }\n",
              "\n",
              "    .dataframe thead th {\n",
              "        text-align: right;\n",
              "    }\n",
              "</style>\n",
              "<table border=\"1\" class=\"dataframe\">\n",
              "  <thead>\n",
              "    <tr style=\"text-align: right;\">\n",
              "      <th></th>\n",
              "      <th>X1</th>\n",
              "      <th>X2</th>\n",
              "      <th>X3</th>\n",
              "      <th>X4</th>\n",
              "      <th>X5</th>\n",
              "      <th>X6</th>\n",
              "      <th>X7</th>\n",
              "      <th>X8</th>\n",
              "      <th>X9</th>\n",
              "      <th>X10</th>\n",
              "      <th>X11</th>\n",
              "      <th>X12</th>\n",
              "      <th>X13</th>\n",
              "      <th>X14</th>\n",
              "      <th>X17</th>\n",
              "      <th>X18</th>\n",
              "      <th>X19</th>\n",
              "      <th>X20</th>\n",
              "      <th>X21</th>\n",
              "      <th>X22</th>\n",
              "      <th>X23</th>\n",
              "      <th>X24</th>\n",
              "      <th>X25</th>\n",
              "      <th>X26</th>\n",
              "      <th>X27</th>\n",
              "      <th>X28</th>\n",
              "      <th>X29</th>\n",
              "      <th>X30</th>\n",
              "      <th>X31</th>\n",
              "      <th>X32</th>\n",
              "      <th>X33</th>\n",
              "      <th>X34</th>\n",
              "      <th>X35</th>\n",
              "      <th>X36</th>\n",
              "      <th>X37</th>\n",
              "      <th>X38</th>\n",
              "      <th>X39</th>\n",
              "      <th>X40</th>\n",
              "      <th>X41</th>\n",
              "      <th>X42</th>\n",
              "      <th>X43</th>\n",
              "      <th>X44</th>\n",
              "      <th>X45</th>\n",
              "      <th>X46</th>\n",
              "      <th>X47</th>\n",
              "      <th>X48</th>\n",
              "      <th>X49</th>\n",
              "      <th>X50</th>\n",
              "      <th>X51</th>\n",
              "      <th>X52</th>\n",
              "      <th>X53</th>\n",
              "      <th>X54</th>\n",
              "      <th>X55</th>\n",
              "      <th>X56</th>\n",
              "      <th>X57</th>\n",
              "      <th>X58</th>\n",
              "      <th>X59</th>\n",
              "      <th>X60</th>\n",
              "      <th>X61</th>\n",
              "      <th>X62</th>\n",
              "      <th>X63</th>\n",
              "      <th>X64</th>\n",
              "      <th>X65</th>\n",
              "      <th>X66</th>\n",
              "      <th>X67</th>\n",
              "      <th>X68</th>\n",
              "      <th>X69</th>\n",
              "      <th>X70</th>\n",
              "      <th>X71</th>\n",
              "      <th>X72</th>\n",
              "      <th>X73</th>\n",
              "      <th>X74</th>\n",
              "      <th>X75</th>\n",
              "      <th>X76</th>\n",
              "      <th>X77</th>\n",
              "      <th>X78</th>\n",
              "      <th>YY</th>\n",
              "    </tr>\n",
              "  </thead>\n",
              "  <tbody>\n",
              "    <tr>\n",
              "      <th>0</th>\n",
              "      <td>53</td>\n",
              "      <td>31065</td>\n",
              "      <td>2</td>\n",
              "      <td>2</td>\n",
              "      <td>68</td>\n",
              "      <td>132</td>\n",
              "      <td>34</td>\n",
              "      <td>34</td>\n",
              "      <td>34.0</td>\n",
              "      <td>0.0</td>\n",
              "      <td>66</td>\n",
              "      <td>66</td>\n",
              "      <td>66.0</td>\n",
              "      <td>0.0</td>\n",
              "      <td>1.035500e+04</td>\n",
              "      <td>1.789123e+04</td>\n",
              "      <td>31014</td>\n",
              "      <td>3</td>\n",
              "      <td>3</td>\n",
              "      <td>3.0</td>\n",
              "      <td>0.000000</td>\n",
              "      <td>3</td>\n",
              "      <td>3</td>\n",
              "      <td>48</td>\n",
              "      <td>48.0</td>\n",
              "      <td>0.000000</td>\n",
              "      <td>48</td>\n",
              "      <td>48</td>\n",
              "      <td>0</td>\n",
              "      <td>0</td>\n",
              "      <td>0</td>\n",
              "      <td>0</td>\n",
              "      <td>64</td>\n",
              "      <td>64</td>\n",
              "      <td>64.381136</td>\n",
              "      <td>64.381136</td>\n",
              "      <td>34</td>\n",
              "      <td>66</td>\n",
              "      <td>46.800000</td>\n",
              "      <td>17.527122</td>\n",
              "      <td>307.200000</td>\n",
              "      <td>0</td>\n",
              "      <td>0</td>\n",
              "      <td>0</td>\n",
              "      <td>0</td>\n",
              "      <td>0</td>\n",
              "      <td>0</td>\n",
              "      <td>0</td>\n",
              "      <td>0</td>\n",
              "      <td>1</td>\n",
              "      <td>58.5</td>\n",
              "      <td>34.0</td>\n",
              "      <td>66.0</td>\n",
              "      <td>64</td>\n",
              "      <td>0</td>\n",
              "      <td>0</td>\n",
              "      <td>0</td>\n",
              "      <td>0</td>\n",
              "      <td>0</td>\n",
              "      <td>0</td>\n",
              "      <td>2</td>\n",
              "      <td>68</td>\n",
              "      <td>2</td>\n",
              "      <td>132</td>\n",
              "      <td>-1</td>\n",
              "      <td>-1</td>\n",
              "      <td>1</td>\n",
              "      <td>32</td>\n",
              "      <td>0.0</td>\n",
              "      <td>0.000000</td>\n",
              "      <td>0</td>\n",
              "      <td>0</td>\n",
              "      <td>0.0</td>\n",
              "      <td>0.000000</td>\n",
              "      <td>0</td>\n",
              "      <td>0</td>\n",
              "      <td>0</td>\n",
              "    </tr>\n",
              "    <tr>\n",
              "      <th>1</th>\n",
              "      <td>123</td>\n",
              "      <td>67042799</td>\n",
              "      <td>2</td>\n",
              "      <td>2</td>\n",
              "      <td>96</td>\n",
              "      <td>96</td>\n",
              "      <td>48</td>\n",
              "      <td>48</td>\n",
              "      <td>48.0</td>\n",
              "      <td>0.0</td>\n",
              "      <td>48</td>\n",
              "      <td>48</td>\n",
              "      <td>48.0</td>\n",
              "      <td>0.0</td>\n",
              "      <td>2.230000e+07</td>\n",
              "      <td>3.860000e+07</td>\n",
              "      <td>67000000</td>\n",
              "      <td>43166</td>\n",
              "      <td>67000000</td>\n",
              "      <td>67000000.0</td>\n",
              "      <td>0.000000</td>\n",
              "      <td>67000000</td>\n",
              "      <td>67000000</td>\n",
              "      <td>67000000</td>\n",
              "      <td>67000000.0</td>\n",
              "      <td>0.000000</td>\n",
              "      <td>67000000</td>\n",
              "      <td>67000000</td>\n",
              "      <td>0</td>\n",
              "      <td>0</td>\n",
              "      <td>0</td>\n",
              "      <td>0</td>\n",
              "      <td>64</td>\n",
              "      <td>64</td>\n",
              "      <td>0.029832</td>\n",
              "      <td>0.029832</td>\n",
              "      <td>48</td>\n",
              "      <td>48</td>\n",
              "      <td>48.000000</td>\n",
              "      <td>0.000000</td>\n",
              "      <td>0.000000</td>\n",
              "      <td>0</td>\n",
              "      <td>0</td>\n",
              "      <td>0</td>\n",
              "      <td>0</td>\n",
              "      <td>0</td>\n",
              "      <td>0</td>\n",
              "      <td>0</td>\n",
              "      <td>0</td>\n",
              "      <td>1</td>\n",
              "      <td>60.0</td>\n",
              "      <td>48.0</td>\n",
              "      <td>48.0</td>\n",
              "      <td>64</td>\n",
              "      <td>0</td>\n",
              "      <td>0</td>\n",
              "      <td>0</td>\n",
              "      <td>0</td>\n",
              "      <td>0</td>\n",
              "      <td>0</td>\n",
              "      <td>2</td>\n",
              "      <td>96</td>\n",
              "      <td>2</td>\n",
              "      <td>96</td>\n",
              "      <td>-1</td>\n",
              "      <td>-1</td>\n",
              "      <td>1</td>\n",
              "      <td>32</td>\n",
              "      <td>43166.0</td>\n",
              "      <td>0.000000</td>\n",
              "      <td>43166</td>\n",
              "      <td>43166</td>\n",
              "      <td>67000000.0</td>\n",
              "      <td>0.000000</td>\n",
              "      <td>67000000</td>\n",
              "      <td>67000000</td>\n",
              "      <td>0</td>\n",
              "    </tr>\n",
              "    <tr>\n",
              "      <th>2</th>\n",
              "      <td>53</td>\n",
              "      <td>49637</td>\n",
              "      <td>2</td>\n",
              "      <td>2</td>\n",
              "      <td>180</td>\n",
              "      <td>294</td>\n",
              "      <td>90</td>\n",
              "      <td>90</td>\n",
              "      <td>90.0</td>\n",
              "      <td>0.0</td>\n",
              "      <td>147</td>\n",
              "      <td>147</td>\n",
              "      <td>147.0</td>\n",
              "      <td>0.0</td>\n",
              "      <td>1.654567e+04</td>\n",
              "      <td>2.861464e+04</td>\n",
              "      <td>49587</td>\n",
              "      <td>3</td>\n",
              "      <td>3</td>\n",
              "      <td>3.0</td>\n",
              "      <td>0.000000</td>\n",
              "      <td>3</td>\n",
              "      <td>3</td>\n",
              "      <td>47</td>\n",
              "      <td>47.0</td>\n",
              "      <td>0.000000</td>\n",
              "      <td>47</td>\n",
              "      <td>47</td>\n",
              "      <td>0</td>\n",
              "      <td>0</td>\n",
              "      <td>0</td>\n",
              "      <td>0</td>\n",
              "      <td>64</td>\n",
              "      <td>40</td>\n",
              "      <td>40.292524</td>\n",
              "      <td>40.292524</td>\n",
              "      <td>90</td>\n",
              "      <td>147</td>\n",
              "      <td>112.800000</td>\n",
              "      <td>31.220186</td>\n",
              "      <td>974.700000</td>\n",
              "      <td>0</td>\n",
              "      <td>0</td>\n",
              "      <td>0</td>\n",
              "      <td>0</td>\n",
              "      <td>0</td>\n",
              "      <td>0</td>\n",
              "      <td>0</td>\n",
              "      <td>0</td>\n",
              "      <td>1</td>\n",
              "      <td>141.0</td>\n",
              "      <td>90.0</td>\n",
              "      <td>147.0</td>\n",
              "      <td>64</td>\n",
              "      <td>0</td>\n",
              "      <td>0</td>\n",
              "      <td>0</td>\n",
              "      <td>0</td>\n",
              "      <td>0</td>\n",
              "      <td>0</td>\n",
              "      <td>2</td>\n",
              "      <td>180</td>\n",
              "      <td>2</td>\n",
              "      <td>294</td>\n",
              "      <td>-1</td>\n",
              "      <td>-1</td>\n",
              "      <td>1</td>\n",
              "      <td>32</td>\n",
              "      <td>0.0</td>\n",
              "      <td>0.000000</td>\n",
              "      <td>0</td>\n",
              "      <td>0</td>\n",
              "      <td>0.0</td>\n",
              "      <td>0.000000</td>\n",
              "      <td>0</td>\n",
              "      <td>0</td>\n",
              "      <td>0</td>\n",
              "    </tr>\n",
              "    <tr>\n",
              "      <th>3</th>\n",
              "      <td>53</td>\n",
              "      <td>48242</td>\n",
              "      <td>1</td>\n",
              "      <td>1</td>\n",
              "      <td>44</td>\n",
              "      <td>92</td>\n",
              "      <td>44</td>\n",
              "      <td>44</td>\n",
              "      <td>44.0</td>\n",
              "      <td>0.0</td>\n",
              "      <td>92</td>\n",
              "      <td>92</td>\n",
              "      <td>92.0</td>\n",
              "      <td>0.0</td>\n",
              "      <td>4.824200e+04</td>\n",
              "      <td>0.000000e+00</td>\n",
              "      <td>48242</td>\n",
              "      <td>48242</td>\n",
              "      <td>0</td>\n",
              "      <td>0.0</td>\n",
              "      <td>0.000000</td>\n",
              "      <td>0</td>\n",
              "      <td>0</td>\n",
              "      <td>0</td>\n",
              "      <td>0.0</td>\n",
              "      <td>0.000000</td>\n",
              "      <td>0</td>\n",
              "      <td>0</td>\n",
              "      <td>0</td>\n",
              "      <td>0</td>\n",
              "      <td>0</td>\n",
              "      <td>0</td>\n",
              "      <td>20</td>\n",
              "      <td>20</td>\n",
              "      <td>20.728825</td>\n",
              "      <td>20.728825</td>\n",
              "      <td>44</td>\n",
              "      <td>92</td>\n",
              "      <td>60.000000</td>\n",
              "      <td>27.712813</td>\n",
              "      <td>768.000000</td>\n",
              "      <td>0</td>\n",
              "      <td>0</td>\n",
              "      <td>0</td>\n",
              "      <td>0</td>\n",
              "      <td>0</td>\n",
              "      <td>0</td>\n",
              "      <td>0</td>\n",
              "      <td>0</td>\n",
              "      <td>1</td>\n",
              "      <td>90.0</td>\n",
              "      <td>44.0</td>\n",
              "      <td>92.0</td>\n",
              "      <td>20</td>\n",
              "      <td>0</td>\n",
              "      <td>0</td>\n",
              "      <td>0</td>\n",
              "      <td>0</td>\n",
              "      <td>0</td>\n",
              "      <td>0</td>\n",
              "      <td>1</td>\n",
              "      <td>44</td>\n",
              "      <td>1</td>\n",
              "      <td>92</td>\n",
              "      <td>-1</td>\n",
              "      <td>-1</td>\n",
              "      <td>0</td>\n",
              "      <td>20</td>\n",
              "      <td>0.0</td>\n",
              "      <td>0.000000</td>\n",
              "      <td>0</td>\n",
              "      <td>0</td>\n",
              "      <td>0.0</td>\n",
              "      <td>0.000000</td>\n",
              "      <td>0</td>\n",
              "      <td>0</td>\n",
              "      <td>0</td>\n",
              "    </tr>\n",
              "    <tr>\n",
              "      <th>4</th>\n",
              "      <td>443</td>\n",
              "      <td>90102413</td>\n",
              "      <td>3</td>\n",
              "      <td>3</td>\n",
              "      <td>18</td>\n",
              "      <td>0</td>\n",
              "      <td>6</td>\n",
              "      <td>6</td>\n",
              "      <td>6.0</td>\n",
              "      <td>0.0</td>\n",
              "      <td>0</td>\n",
              "      <td>0</td>\n",
              "      <td>0.0</td>\n",
              "      <td>0.0</td>\n",
              "      <td>1.802048e+07</td>\n",
              "      <td>2.462721e+07</td>\n",
              "      <td>45000562</td>\n",
              "      <td>34973</td>\n",
              "      <td>90067231</td>\n",
              "      <td>45033615.5</td>\n",
              "      <td>2714.582933</td>\n",
              "      <td>45035535</td>\n",
              "      <td>45031696</td>\n",
              "      <td>90067440</td>\n",
              "      <td>45033720.0</td>\n",
              "      <td>3715.139028</td>\n",
              "      <td>45036347</td>\n",
              "      <td>45031093</td>\n",
              "      <td>0</td>\n",
              "      <td>0</td>\n",
              "      <td>0</td>\n",
              "      <td>0</td>\n",
              "      <td>60</td>\n",
              "      <td>96</td>\n",
              "      <td>0.033295</td>\n",
              "      <td>0.033295</td>\n",
              "      <td>0</td>\n",
              "      <td>6</td>\n",
              "      <td>3.428571</td>\n",
              "      <td>3.207135</td>\n",
              "      <td>10.285714</td>\n",
              "      <td>0</td>\n",
              "      <td>0</td>\n",
              "      <td>0</td>\n",
              "      <td>0</td>\n",
              "      <td>1</td>\n",
              "      <td>0</td>\n",
              "      <td>0</td>\n",
              "      <td>0</td>\n",
              "      <td>1</td>\n",
              "      <td>4.0</td>\n",
              "      <td>6.0</td>\n",
              "      <td>0.0</td>\n",
              "      <td>60</td>\n",
              "      <td>0</td>\n",
              "      <td>0</td>\n",
              "      <td>0</td>\n",
              "      <td>0</td>\n",
              "      <td>0</td>\n",
              "      <td>0</td>\n",
              "      <td>3</td>\n",
              "      <td>18</td>\n",
              "      <td>3</td>\n",
              "      <td>0</td>\n",
              "      <td>251</td>\n",
              "      <td>66</td>\n",
              "      <td>2</td>\n",
              "      <td>20</td>\n",
              "      <td>35379.0</td>\n",
              "      <td>574.170706</td>\n",
              "      <td>35785</td>\n",
              "      <td>34973</td>\n",
              "      <td>44998236.5</td>\n",
              "      <td>3288.753639</td>\n",
              "      <td>45000562</td>\n",
              "      <td>44995911</td>\n",
              "      <td>0</td>\n",
              "    </tr>\n",
              "  </tbody>\n",
              "</table>\n",
              "</div>"
            ],
            "text/plain": [
              "    X1        X2  X3  X4   X5  ...         X75          X76       X77       X78  YY\n",
              "0   53     31065   2   2   68  ...         0.0     0.000000         0         0   0\n",
              "1  123  67042799   2   2   96  ...  67000000.0     0.000000  67000000  67000000   0\n",
              "2   53     49637   2   2  180  ...         0.0     0.000000         0         0   0\n",
              "3   53     48242   1   1   44  ...         0.0     0.000000         0         0   0\n",
              "4  443  90102413   3   3   18  ...  44998236.5  3288.753639  45000562  44995911   0\n",
              "\n",
              "[5 rows x 77 columns]"
            ]
          },
          "metadata": {
            "tags": []
          },
          "execution_count": 120
        }
      ]
    },
    {
      "cell_type": "code",
      "metadata": {
        "id": "55395xd6w1iA",
        "colab_type": "code",
        "colab": {
          "base_uri": "https://localhost:8080/",
          "height": 272
        },
        "outputId": "6734d531-99e5-4316-9064-e1751be464c1"
      },
      "source": [
        "df_train['YY'].value_counts()"
      ],
      "execution_count": 121,
      "outputs": [
        {
          "output_type": "execute_result",
          "data": {
            "text/plain": [
              "0     40000\n",
              "12     8000\n",
              "11     8000\n",
              "10     8000\n",
              "9      8000\n",
              "8      8000\n",
              "7      8000\n",
              "6      8000\n",
              "5      8000\n",
              "4      8000\n",
              "3      8000\n",
              "2      8000\n",
              "1      8000\n",
              "Name: YY, dtype: int64"
            ]
          },
          "metadata": {
            "tags": []
          },
          "execution_count": 121
        }
      ]
    },
    {
      "cell_type": "code",
      "metadata": {
        "id": "ZKMccRp9w9XQ",
        "colab_type": "code",
        "colab": {
          "base_uri": "https://localhost:8080/",
          "height": 72
        },
        "outputId": "a0c3319d-e03d-448d-e56d-1f76c7cf35bb"
      },
      "source": [
        "df_train.iloc[0:40001]['YY'].value_counts()"
      ],
      "execution_count": 122,
      "outputs": [
        {
          "output_type": "execute_result",
          "data": {
            "text/plain": [
              "0    40000\n",
              "1        1\n",
              "Name: YY, dtype: int64"
            ]
          },
          "metadata": {
            "tags": []
          },
          "execution_count": 122
        }
      ]
    },
    {
      "cell_type": "code",
      "metadata": {
        "id": "4SN67tUJytF6",
        "colab_type": "code",
        "colab": {
          "base_uri": "https://localhost:8080/",
          "height": 272
        },
        "outputId": "9fdce7b4-3963-4661-e3b1-c8d73176611e"
      },
      "source": [
        "df_train = df_train.iloc[32000:]\n",
        "df_train = df_train.sample(frac=1).reset_index(drop=True) # Here, specifying drop=True prevents .reset_index from creating a column containing the old index entries.\n",
        "df_train['YY'].value_counts()\n",
        "# https://stackoverflow.com/questions/29576430/shuffle-dataframe-rows"
      ],
      "execution_count": 123,
      "outputs": [
        {
          "output_type": "execute_result",
          "data": {
            "text/plain": [
              "12    8000\n",
              "11    8000\n",
              "10    8000\n",
              "9     8000\n",
              "8     8000\n",
              "7     8000\n",
              "6     8000\n",
              "5     8000\n",
              "4     8000\n",
              "3     8000\n",
              "2     8000\n",
              "1     8000\n",
              "0     8000\n",
              "Name: YY, dtype: int64"
            ]
          },
          "metadata": {
            "tags": []
          },
          "execution_count": 123
        }
      ]
    },
    {
      "cell_type": "code",
      "metadata": {
        "id": "JSI7Lee4A_mc",
        "colab_type": "code",
        "colab": {
          "base_uri": "https://localhost:8080/",
          "height": 235
        },
        "outputId": "d32d2c3a-a95a-4679-eb57-4a9c97f97973"
      },
      "source": [
        "df_train.iloc[:, -1]"
      ],
      "execution_count": 124,
      "outputs": [
        {
          "output_type": "execute_result",
          "data": {
            "text/plain": [
              "0          7\n",
              "1          9\n",
              "2          5\n",
              "3         10\n",
              "4         12\n",
              "          ..\n",
              "103995     8\n",
              "103996     5\n",
              "103997     2\n",
              "103998     7\n",
              "103999     9\n",
              "Name: YY, Length: 104000, dtype: int64"
            ]
          },
          "metadata": {
            "tags": []
          },
          "execution_count": 124
        }
      ]
    },
    {
      "cell_type": "code",
      "metadata": {
        "id": "_B3FCW4bzLFI",
        "colab_type": "code",
        "colab": {
          "base_uri": "https://localhost:8080/",
          "height": 128
        },
        "outputId": "abb80221-8ad9-48d3-9a4e-d91d6aa58591"
      },
      "source": [
        "train_set = df_train[0:83200]\n",
        "train_set = torch.tensor(np.array(train_set), dtype=torch.float32)\n",
        "train = torch.narrow(train_set, 1, 0, 76)\n",
        "train_labels = torch.narrow(train_set, 1, 76, 1)\n",
        "train_labels = torch.tensor(train_labels, dtype=torch.int64).squeeze() # squeeze to make 1D instead of 2D\n",
        "\n",
        "val_set = df_train[83200:]\n",
        "val_set = torch.tensor(np.array(val_set), dtype=torch.float32)\n",
        "val = torch.narrow(val_set, 1, 0, 76)\n",
        "val_labels = torch.narrow(val_set, 1, 76, 1)\n",
        "val_labels = torch.tensor(val_labels, dtype=torch.int64).squeeze()\n",
        "print(train.shape, train_labels.shape, val.shape, val_labels.shape)"
      ],
      "execution_count": 127,
      "outputs": [
        {
          "output_type": "stream",
          "text": [
            "torch.Size([83200, 76]) torch.Size([83200]) torch.Size([20800, 76]) torch.Size([20800])\n"
          ],
          "name": "stdout"
        },
        {
          "output_type": "stream",
          "text": [
            "/usr/local/lib/python3.6/dist-packages/ipykernel_launcher.py:5: UserWarning: To copy construct from a tensor, it is recommended to use sourceTensor.clone().detach() or sourceTensor.clone().detach().requires_grad_(True), rather than torch.tensor(sourceTensor).\n",
            "  \"\"\"\n",
            "/usr/local/lib/python3.6/dist-packages/ipykernel_launcher.py:11: UserWarning: To copy construct from a tensor, it is recommended to use sourceTensor.clone().detach() or sourceTensor.clone().detach().requires_grad_(True), rather than torch.tensor(sourceTensor).\n",
            "  # This is added back by InteractiveShellApp.init_path()\n"
          ],
          "name": "stderr"
        }
      ]
    },
    {
      "cell_type": "code",
      "metadata": {
        "id": "1tBJjntlAbKb",
        "colab_type": "code",
        "colab": {
          "base_uri": "https://localhost:8080/",
          "height": 35
        },
        "outputId": "7e14e866-eb43-4ef3-c588-42c1622cce5e"
      },
      "source": [
        "val_labels[10000:10003]"
      ],
      "execution_count": 128,
      "outputs": [
        {
          "output_type": "execute_result",
          "data": {
            "text/plain": [
              "tensor([11, 10, 10])"
            ]
          },
          "metadata": {
            "tags": []
          },
          "execution_count": 128
        }
      ]
    },
    {
      "cell_type": "code",
      "metadata": {
        "id": "6VkAeFbiAw0D",
        "colab_type": "code",
        "colab": {
          "base_uri": "https://localhost:8080/",
          "height": 35
        },
        "outputId": "f3861320-4f64-422c-892f-ac91e080e91a"
      },
      "source": [
        "val_set[10000:10003, -1]"
      ],
      "execution_count": 129,
      "outputs": [
        {
          "output_type": "execute_result",
          "data": {
            "text/plain": [
              "tensor([11., 10., 10.])"
            ]
          },
          "metadata": {
            "tags": []
          },
          "execution_count": 129
        }
      ]
    },
    {
      "cell_type": "code",
      "metadata": {
        "id": "wKohHiNhAeQT",
        "colab_type": "code",
        "colab": {
          "base_uri": "https://localhost:8080/",
          "height": 35
        },
        "outputId": "39c858ce-01e3-416e-8efc-e1bdda854814"
      },
      "source": [
        "train_labels[45000:45003]"
      ],
      "execution_count": 130,
      "outputs": [
        {
          "output_type": "execute_result",
          "data": {
            "text/plain": [
              "tensor([11,  1,  7])"
            ]
          },
          "metadata": {
            "tags": []
          },
          "execution_count": 130
        }
      ]
    },
    {
      "cell_type": "code",
      "metadata": {
        "id": "pbAW1vCrBcnM",
        "colab_type": "code",
        "colab": {
          "base_uri": "https://localhost:8080/",
          "height": 35
        },
        "outputId": "2fe492d1-bd67-41b4-a816-9dc5c012ca49"
      },
      "source": [
        "train_set[45000:45003, -1]"
      ],
      "execution_count": 131,
      "outputs": [
        {
          "output_type": "execute_result",
          "data": {
            "text/plain": [
              "tensor([11.,  1.,  7.])"
            ]
          },
          "metadata": {
            "tags": []
          },
          "execution_count": 131
        }
      ]
    },
    {
      "cell_type": "code",
      "metadata": {
        "id": "pd5ec1kVzBvC",
        "colab_type": "code",
        "colab": {
          "base_uri": "https://localhost:8080/",
          "height": 54
        },
        "outputId": "5c262969-66a5-46c5-914f-da2f91f7efc0"
      },
      "source": [
        "\n",
        "\n",
        "x = torch.tensor([[1,2,3], [4,5,6]])\n",
        "torch.narrow(x, 1, 0, 2)"
      ],
      "execution_count": 132,
      "outputs": [
        {
          "output_type": "execute_result",
          "data": {
            "text/plain": [
              "tensor([[1, 2],\n",
              "        [4, 5]])"
            ]
          },
          "metadata": {
            "tags": []
          },
          "execution_count": 132
        }
      ]
    },
    {
      "cell_type": "code",
      "metadata": {
        "id": "yujwvYPEzura",
        "colab_type": "code",
        "colab": {}
      },
      "source": [
        "#train = torch.narrow(train_all, 1, 0, 76)\n",
        "#train_labels = torch.narrow(train_all, 1, 76, 1).squeeze() \n",
        "#train_labels = torch.tensor(train_labels, dtype=torch.int64)"
      ],
      "execution_count": 133,
      "outputs": []
    },
    {
      "cell_type": "code",
      "metadata": {
        "id": "8re17K7Z0Gis",
        "colab_type": "code",
        "colab": {}
      },
      "source": [
        "#train_labels[10000:10002]"
      ],
      "execution_count": 134,
      "outputs": []
    },
    {
      "cell_type": "code",
      "metadata": {
        "id": "aeIstGbk3vvx",
        "colab_type": "code",
        "colab": {}
      },
      "source": [
        "#train_all[10000:10002, -1]"
      ],
      "execution_count": 135,
      "outputs": []
    },
    {
      "cell_type": "code",
      "metadata": {
        "id": "0CYMGrup0LfL",
        "colab_type": "code",
        "colab": {
          "base_uri": "https://localhost:8080/",
          "height": 35
        },
        "outputId": "54b2eda0-4573-4cce-99bc-10caacc23ae4"
      },
      "source": [
        "device = 'cuda' if torch.cuda.is_available() else 'cpu'\n",
        "device"
      ],
      "execution_count": 136,
      "outputs": [
        {
          "output_type": "execute_result",
          "data": {
            "application/vnd.google.colaboratory.intrinsic+json": {
              "type": "string"
            },
            "text/plain": [
              "'cuda'"
            ]
          },
          "metadata": {
            "tags": []
          },
          "execution_count": 136
        }
      ]
    },
    {
      "cell_type": "code",
      "metadata": {
        "id": "COKhauJ_0k1r",
        "colab_type": "code",
        "colab": {}
      },
      "source": [
        "class RunBuilder():\n",
        "    @staticmethod\n",
        "    def get_runs(params):\n",
        "\n",
        "        Run = namedtuple('Run', params.keys())\n",
        "\n",
        "        runs = []\n",
        "        for v in product(*params.values()):\n",
        "            runs.append(Run(*v))\n",
        "\n",
        "        return runs\n",
        "\n",
        "class RunManager():\n",
        "    def __init__(self):\n",
        "        self.epoch_count = 0\n",
        "        self.epoch_loss = 0\n",
        "        self.epoch_num_correct = 0\n",
        "        self.val_correct = 0\n",
        "        self.epoch_start_time = None\n",
        "        \n",
        "        self.run_params = None\n",
        "        self.run_count = 0\n",
        "        self.run_data = []\n",
        "        self.run_start_time = None\n",
        "        \n",
        "        self.network = None\n",
        "\n",
        "       \n",
        "    def begin_run(self, run, network):\n",
        "        self.run_start_time = time.time()\n",
        "        \n",
        "        self.epoch_count = 0\n",
        "        self.run_params = run\n",
        "        self.run_count += 1\n",
        "        \n",
        "        self.network = network\n",
        "        \n",
        "    def end_run(self):\n",
        "        self.epoch_count = 0\n",
        "    \n",
        "    def begin_epoch(self):\n",
        "        self.epoch_start_time = time.time()\n",
        "        self.epoch_count += 1\n",
        "        self.epoch_loss = 0\n",
        "        self.epoch_num_correct = 0\n",
        "        self.val_correct = 0\n",
        "    \n",
        "    def end_epoch(self):\n",
        "        epoch_duration = time.time() - self.epoch_start_time\n",
        "        run_duration = time.time() - self.run_start_time\n",
        "        \n",
        "        loss = self.epoch_loss / len(train)\n",
        "        train_accuracy = self.epoch_num_correct / len(train)\n",
        "\n",
        "        val_accuracy = self.val_correct/len(validation_set)\n",
        "\n",
        "            \n",
        "        results = OrderedDict()\n",
        "        results[\"run\"] = self.run_count\n",
        "        results['epoch'] = self.epoch_count\n",
        "        results['loss'] = loss\n",
        "        results['train_accuracy'] = train_accuracy\n",
        "        results['val_accuracy'] = val_accuracy\n",
        "        results['epoch duration'] = epoch_duration\n",
        "        results['run duration'] = run_duration\n",
        "        for k, v in self.run_params._asdict().items(): results[k] = v\n",
        "        self.run_data.append(results)\n",
        "        df = pd.DataFrame.from_dict(self.run_data, orient='columns')\n",
        "        clear_output(wait=True)\n",
        "        display(df)\n",
        "    \n",
        "    def track_loss(self, loss):\n",
        "        self.epoch_loss += loss.item() * 10\n",
        "    \n",
        "    def track_num_correct(self, preds, labels):\n",
        "        self.epoch_num_correct += self._get_num_correct(preds, labels)\n",
        "      \n",
        "    def track_val_accuracy(self, model):\n",
        "        with torch.no_grad():\n",
        "            validation_preds = model(validation_set)\n",
        "            self.val_correct += validation_preds.argmax(dim=1).eq(validation_labels).sum().item()\n",
        "   \n",
        "    @torch.no_grad()\n",
        "    def _get_num_correct(self, preds, labels):\n",
        "        return preds.argmax(dim=1).eq(labels).sum().item()\n",
        "    \n",
        "    def save(self, fileName): # save in json and csv\n",
        "        \n",
        "        pd.DataFrame.from_dict(self.run_data, orient='columns').to_csv(f'{fileName}.csv')\n",
        "        \n",
        "        with open(f'{fileName}.json', 'w', encoding='utf-8') as f:\n",
        "            json.dump(self.run_data, f, ensure_ascii=False, indent=4)"
      ],
      "execution_count": 137,
      "outputs": []
    },
    {
      "cell_type": "code",
      "metadata": {
        "id": "TVXiWRmZ0VZr",
        "colab_type": "code",
        "colab": {
          "base_uri": "https://localhost:8080/",
          "height": 888
        },
        "outputId": "1b369402-160a-4a5f-c9c1-6a5f7faa1018"
      },
      "source": [
        "validation_set = val.to(device)\n",
        "validation_labels = val_labels.to(device)\n",
        "\n",
        "params = OrderedDict(\n",
        "    lr = [0.0001],\n",
        "    batch_size = [500],\n",
        "    device = ['cuda'],\n",
        "    weight_decay = [0.0, 1.0, 10.0])\n",
        "\n",
        "m = RunManager()\n",
        "for run in RunBuilder.get_runs(params):\n",
        "\n",
        "    network = nn.Sequential(\n",
        "        nn.Linear(in_features=76, out_features=26),\n",
        "        nn.Sigmoid(),\n",
        "        nn.Linear(in_features=26, out_features=13),\n",
        "        nn.Sigmoid()).to(device)\n",
        "    \n",
        "    mini_batches = [train[k:k + run.batch_size] for k in range(0, train_labels.shape[0], run.batch_size)]\n",
        "    mini_labels = [train_labels[k:k + run.batch_size] for k in range(0, train_labels.shape[0], run.batch_size)]\n",
        "    optimizer = optim.Adam(network.parameters(), lr=run.lr, weight_decay=run.weight_decay)\n",
        "    #scheduler = optim.lr_scheduler.StepLR(optimizer, step_size=50, gamma=0.1)\n",
        "\n",
        "    m.begin_run(run, network)\n",
        "    for epoch in range(300):\n",
        "        m.begin_epoch()\n",
        "        for b in range(0, len(mini_batches)):\n",
        "            images = mini_batches[b].to(device)\n",
        "            labels = mini_labels[b].to(device)\n",
        "            preds = network(images) # pass batch\n",
        "            loss = F.cross_entropy(preds, labels) # calculate loss\n",
        "            optimizer.zero_grad() # zero gradients\n",
        "            loss.backward() # calculate gradients\n",
        "            optimizer.step() # update weights\n",
        "\n",
        "            m.track_loss(loss)\n",
        "            m.track_num_correct(preds, labels)\n",
        "        m.track_val_accuracy(network)\n",
        "        m.end_epoch()\n",
        "        #scheduler.step()\n",
        "    m.end_run()\n",
        "\n",
        "pd.DataFrame.from_dict(m.run_data).sort_values('val_accuracy', ascending=False)[0:15]"
      ],
      "execution_count": 140,
      "outputs": [
        {
          "output_type": "display_data",
          "data": {
            "text/html": [
              "<div>\n",
              "<style scoped>\n",
              "    .dataframe tbody tr th:only-of-type {\n",
              "        vertical-align: middle;\n",
              "    }\n",
              "\n",
              "    .dataframe tbody tr th {\n",
              "        vertical-align: top;\n",
              "    }\n",
              "\n",
              "    .dataframe thead th {\n",
              "        text-align: right;\n",
              "    }\n",
              "</style>\n",
              "<table border=\"1\" class=\"dataframe\">\n",
              "  <thead>\n",
              "    <tr style=\"text-align: right;\">\n",
              "      <th></th>\n",
              "      <th>run</th>\n",
              "      <th>epoch</th>\n",
              "      <th>loss</th>\n",
              "      <th>train_accuracy</th>\n",
              "      <th>val_accuracy</th>\n",
              "      <th>epoch duration</th>\n",
              "      <th>run duration</th>\n",
              "      <th>lr</th>\n",
              "      <th>batch_size</th>\n",
              "      <th>device</th>\n",
              "      <th>weight_decay</th>\n",
              "    </tr>\n",
              "  </thead>\n",
              "  <tbody>\n",
              "    <tr>\n",
              "      <th>0</th>\n",
              "      <td>1</td>\n",
              "      <td>1</td>\n",
              "      <td>0.051147</td>\n",
              "      <td>0.123954</td>\n",
              "      <td>0.136827</td>\n",
              "      <td>0.267787</td>\n",
              "      <td>0.267793</td>\n",
              "      <td>0.0001</td>\n",
              "      <td>500</td>\n",
              "      <td>cuda</td>\n",
              "      <td>0.0</td>\n",
              "    </tr>\n",
              "    <tr>\n",
              "      <th>1</th>\n",
              "      <td>1</td>\n",
              "      <td>2</td>\n",
              "      <td>0.050626</td>\n",
              "      <td>0.188425</td>\n",
              "      <td>0.201779</td>\n",
              "      <td>0.261987</td>\n",
              "      <td>0.558636</td>\n",
              "      <td>0.0001</td>\n",
              "      <td>500</td>\n",
              "      <td>cuda</td>\n",
              "      <td>0.0</td>\n",
              "    </tr>\n",
              "    <tr>\n",
              "      <th>2</th>\n",
              "      <td>1</td>\n",
              "      <td>3</td>\n",
              "      <td>0.050122</td>\n",
              "      <td>0.215517</td>\n",
              "      <td>0.250673</td>\n",
              "      <td>0.258412</td>\n",
              "      <td>0.839571</td>\n",
              "      <td>0.0001</td>\n",
              "      <td>500</td>\n",
              "      <td>cuda</td>\n",
              "      <td>0.0</td>\n",
              "    </tr>\n",
              "    <tr>\n",
              "      <th>3</th>\n",
              "      <td>1</td>\n",
              "      <td>4</td>\n",
              "      <td>0.049704</td>\n",
              "      <td>0.304303</td>\n",
              "      <td>0.412740</td>\n",
              "      <td>0.250801</td>\n",
              "      <td>1.113211</td>\n",
              "      <td>0.0001</td>\n",
              "      <td>500</td>\n",
              "      <td>cuda</td>\n",
              "      <td>0.0</td>\n",
              "    </tr>\n",
              "    <tr>\n",
              "      <th>4</th>\n",
              "      <td>1</td>\n",
              "      <td>5</td>\n",
              "      <td>0.049243</td>\n",
              "      <td>0.426538</td>\n",
              "      <td>0.443894</td>\n",
              "      <td>0.262294</td>\n",
              "      <td>1.399940</td>\n",
              "      <td>0.0001</td>\n",
              "      <td>500</td>\n",
              "      <td>cuda</td>\n",
              "      <td>0.0</td>\n",
              "    </tr>\n",
              "    <tr>\n",
              "      <th>...</th>\n",
              "      <td>...</td>\n",
              "      <td>...</td>\n",
              "      <td>...</td>\n",
              "      <td>...</td>\n",
              "      <td>...</td>\n",
              "      <td>...</td>\n",
              "      <td>...</td>\n",
              "      <td>...</td>\n",
              "      <td>...</td>\n",
              "      <td>...</td>\n",
              "      <td>...</td>\n",
              "    </tr>\n",
              "    <tr>\n",
              "      <th>895</th>\n",
              "      <td>3</td>\n",
              "      <td>296</td>\n",
              "      <td>0.051465</td>\n",
              "      <td>0.166154</td>\n",
              "      <td>0.153221</td>\n",
              "      <td>0.256579</td>\n",
              "      <td>89.951380</td>\n",
              "      <td>0.0001</td>\n",
              "      <td>500</td>\n",
              "      <td>cuda</td>\n",
              "      <td>10.0</td>\n",
              "    </tr>\n",
              "    <tr>\n",
              "      <th>896</th>\n",
              "      <td>3</td>\n",
              "      <td>297</td>\n",
              "      <td>0.051465</td>\n",
              "      <td>0.159916</td>\n",
              "      <td>0.151923</td>\n",
              "      <td>0.271837</td>\n",
              "      <td>90.258765</td>\n",
              "      <td>0.0001</td>\n",
              "      <td>500</td>\n",
              "      <td>cuda</td>\n",
              "      <td>10.0</td>\n",
              "    </tr>\n",
              "    <tr>\n",
              "      <th>897</th>\n",
              "      <td>3</td>\n",
              "      <td>298</td>\n",
              "      <td>0.051464</td>\n",
              "      <td>0.164423</td>\n",
              "      <td>0.152067</td>\n",
              "      <td>0.271134</td>\n",
              "      <td>90.565061</td>\n",
              "      <td>0.0001</td>\n",
              "      <td>500</td>\n",
              "      <td>cuda</td>\n",
              "      <td>10.0</td>\n",
              "    </tr>\n",
              "    <tr>\n",
              "      <th>898</th>\n",
              "      <td>3</td>\n",
              "      <td>299</td>\n",
              "      <td>0.051464</td>\n",
              "      <td>0.161346</td>\n",
              "      <td>0.152885</td>\n",
              "      <td>0.263102</td>\n",
              "      <td>90.861979</td>\n",
              "      <td>0.0001</td>\n",
              "      <td>500</td>\n",
              "      <td>cuda</td>\n",
              "      <td>10.0</td>\n",
              "    </tr>\n",
              "    <tr>\n",
              "      <th>899</th>\n",
              "      <td>3</td>\n",
              "      <td>300</td>\n",
              "      <td>0.051464</td>\n",
              "      <td>0.156899</td>\n",
              "      <td>0.152163</td>\n",
              "      <td>0.272707</td>\n",
              "      <td>91.171292</td>\n",
              "      <td>0.0001</td>\n",
              "      <td>500</td>\n",
              "      <td>cuda</td>\n",
              "      <td>10.0</td>\n",
              "    </tr>\n",
              "  </tbody>\n",
              "</table>\n",
              "<p>900 rows × 11 columns</p>\n",
              "</div>"
            ],
            "text/plain": [
              "     run  epoch      loss  ...  batch_size  device  weight_decay\n",
              "0      1      1  0.051147  ...         500    cuda           0.0\n",
              "1      1      2  0.050626  ...         500    cuda           0.0\n",
              "2      1      3  0.050122  ...         500    cuda           0.0\n",
              "3      1      4  0.049704  ...         500    cuda           0.0\n",
              "4      1      5  0.049243  ...         500    cuda           0.0\n",
              "..   ...    ...       ...  ...         ...     ...           ...\n",
              "895    3    296  0.051465  ...         500    cuda          10.0\n",
              "896    3    297  0.051465  ...         500    cuda          10.0\n",
              "897    3    298  0.051464  ...         500    cuda          10.0\n",
              "898    3    299  0.051464  ...         500    cuda          10.0\n",
              "899    3    300  0.051464  ...         500    cuda          10.0\n",
              "\n",
              "[900 rows x 11 columns]"
            ]
          },
          "metadata": {
            "tags": []
          }
        },
        {
          "output_type": "execute_result",
          "data": {
            "text/html": [
              "<div>\n",
              "<style scoped>\n",
              "    .dataframe tbody tr th:only-of-type {\n",
              "        vertical-align: middle;\n",
              "    }\n",
              "\n",
              "    .dataframe tbody tr th {\n",
              "        vertical-align: top;\n",
              "    }\n",
              "\n",
              "    .dataframe thead th {\n",
              "        text-align: right;\n",
              "    }\n",
              "</style>\n",
              "<table border=\"1\" class=\"dataframe\">\n",
              "  <thead>\n",
              "    <tr style=\"text-align: right;\">\n",
              "      <th></th>\n",
              "      <th>run</th>\n",
              "      <th>epoch</th>\n",
              "      <th>loss</th>\n",
              "      <th>train_accuracy</th>\n",
              "      <th>val_accuracy</th>\n",
              "      <th>epoch duration</th>\n",
              "      <th>run duration</th>\n",
              "      <th>lr</th>\n",
              "      <th>batch_size</th>\n",
              "      <th>device</th>\n",
              "      <th>weight_decay</th>\n",
              "    </tr>\n",
              "  </thead>\n",
              "  <tbody>\n",
              "    <tr>\n",
              "      <th>250</th>\n",
              "      <td>1</td>\n",
              "      <td>251</td>\n",
              "      <td>0.037753</td>\n",
              "      <td>0.801971</td>\n",
              "      <td>0.806923</td>\n",
              "      <td>0.258594</td>\n",
              "      <td>73.376230</td>\n",
              "      <td>0.0001</td>\n",
              "      <td>500</td>\n",
              "      <td>cuda</td>\n",
              "      <td>0.0</td>\n",
              "    </tr>\n",
              "    <tr>\n",
              "      <th>247</th>\n",
              "      <td>1</td>\n",
              "      <td>248</td>\n",
              "      <td>0.037766</td>\n",
              "      <td>0.801683</td>\n",
              "      <td>0.806779</td>\n",
              "      <td>0.268984</td>\n",
              "      <td>72.473486</td>\n",
              "      <td>0.0001</td>\n",
              "      <td>500</td>\n",
              "      <td>cuda</td>\n",
              "      <td>0.0</td>\n",
              "    </tr>\n",
              "    <tr>\n",
              "      <th>251</th>\n",
              "      <td>1</td>\n",
              "      <td>252</td>\n",
              "      <td>0.037741</td>\n",
              "      <td>0.802200</td>\n",
              "      <td>0.806538</td>\n",
              "      <td>0.261977</td>\n",
              "      <td>73.670860</td>\n",
              "      <td>0.0001</td>\n",
              "      <td>500</td>\n",
              "      <td>cuda</td>\n",
              "      <td>0.0</td>\n",
              "    </tr>\n",
              "    <tr>\n",
              "      <th>248</th>\n",
              "      <td>1</td>\n",
              "      <td>249</td>\n",
              "      <td>0.037761</td>\n",
              "      <td>0.802151</td>\n",
              "      <td>0.806442</td>\n",
              "      <td>0.266046</td>\n",
              "      <td>72.772595</td>\n",
              "      <td>0.0001</td>\n",
              "      <td>500</td>\n",
              "      <td>cuda</td>\n",
              "      <td>0.0</td>\n",
              "    </tr>\n",
              "    <tr>\n",
              "      <th>249</th>\n",
              "      <td>1</td>\n",
              "      <td>250</td>\n",
              "      <td>0.037780</td>\n",
              "      <td>0.802007</td>\n",
              "      <td>0.806154</td>\n",
              "      <td>0.271589</td>\n",
              "      <td>73.083225</td>\n",
              "      <td>0.0001</td>\n",
              "      <td>500</td>\n",
              "      <td>cuda</td>\n",
              "      <td>0.0</td>\n",
              "    </tr>\n",
              "    <tr>\n",
              "      <th>254</th>\n",
              "      <td>1</td>\n",
              "      <td>255</td>\n",
              "      <td>0.037678</td>\n",
              "      <td>0.802079</td>\n",
              "      <td>0.806106</td>\n",
              "      <td>0.256496</td>\n",
              "      <td>74.546688</td>\n",
              "      <td>0.0001</td>\n",
              "      <td>500</td>\n",
              "      <td>cuda</td>\n",
              "      <td>0.0</td>\n",
              "    </tr>\n",
              "    <tr>\n",
              "      <th>242</th>\n",
              "      <td>1</td>\n",
              "      <td>243</td>\n",
              "      <td>0.037902</td>\n",
              "      <td>0.800974</td>\n",
              "      <td>0.806106</td>\n",
              "      <td>0.264246</td>\n",
              "      <td>70.988274</td>\n",
              "      <td>0.0001</td>\n",
              "      <td>500</td>\n",
              "      <td>cuda</td>\n",
              "      <td>0.0</td>\n",
              "    </tr>\n",
              "    <tr>\n",
              "      <th>246</th>\n",
              "      <td>1</td>\n",
              "      <td>247</td>\n",
              "      <td>0.037766</td>\n",
              "      <td>0.800901</td>\n",
              "      <td>0.805865</td>\n",
              "      <td>0.255504</td>\n",
              "      <td>72.171273</td>\n",
              "      <td>0.0001</td>\n",
              "      <td>500</td>\n",
              "      <td>cuda</td>\n",
              "      <td>0.0</td>\n",
              "    </tr>\n",
              "    <tr>\n",
              "      <th>253</th>\n",
              "      <td>1</td>\n",
              "      <td>254</td>\n",
              "      <td>0.037670</td>\n",
              "      <td>0.801719</td>\n",
              "      <td>0.805673</td>\n",
              "      <td>0.253221</td>\n",
              "      <td>74.257910</td>\n",
              "      <td>0.0001</td>\n",
              "      <td>500</td>\n",
              "      <td>cuda</td>\n",
              "      <td>0.0</td>\n",
              "    </tr>\n",
              "    <tr>\n",
              "      <th>243</th>\n",
              "      <td>1</td>\n",
              "      <td>244</td>\n",
              "      <td>0.037834</td>\n",
              "      <td>0.801911</td>\n",
              "      <td>0.805673</td>\n",
              "      <td>0.256416</td>\n",
              "      <td>71.277534</td>\n",
              "      <td>0.0001</td>\n",
              "      <td>500</td>\n",
              "      <td>cuda</td>\n",
              "      <td>0.0</td>\n",
              "    </tr>\n",
              "    <tr>\n",
              "      <th>244</th>\n",
              "      <td>1</td>\n",
              "      <td>245</td>\n",
              "      <td>0.037797</td>\n",
              "      <td>0.801226</td>\n",
              "      <td>0.805529</td>\n",
              "      <td>0.272307</td>\n",
              "      <td>71.582896</td>\n",
              "      <td>0.0001</td>\n",
              "      <td>500</td>\n",
              "      <td>cuda</td>\n",
              "      <td>0.0</td>\n",
              "    </tr>\n",
              "    <tr>\n",
              "      <th>241</th>\n",
              "      <td>1</td>\n",
              "      <td>242</td>\n",
              "      <td>0.037949</td>\n",
              "      <td>0.782873</td>\n",
              "      <td>0.805433</td>\n",
              "      <td>0.260341</td>\n",
              "      <td>70.691248</td>\n",
              "      <td>0.0001</td>\n",
              "      <td>500</td>\n",
              "      <td>cuda</td>\n",
              "      <td>0.0</td>\n",
              "    </tr>\n",
              "    <tr>\n",
              "      <th>255</th>\n",
              "      <td>1</td>\n",
              "      <td>256</td>\n",
              "      <td>0.037668</td>\n",
              "      <td>0.800048</td>\n",
              "      <td>0.805048</td>\n",
              "      <td>0.264495</td>\n",
              "      <td>74.846354</td>\n",
              "      <td>0.0001</td>\n",
              "      <td>500</td>\n",
              "      <td>cuda</td>\n",
              "      <td>0.0</td>\n",
              "    </tr>\n",
              "    <tr>\n",
              "      <th>252</th>\n",
              "      <td>1</td>\n",
              "      <td>253</td>\n",
              "      <td>0.037709</td>\n",
              "      <td>0.799832</td>\n",
              "      <td>0.804808</td>\n",
              "      <td>0.269337</td>\n",
              "      <td>73.972903</td>\n",
              "      <td>0.0001</td>\n",
              "      <td>500</td>\n",
              "      <td>cuda</td>\n",
              "      <td>0.0</td>\n",
              "    </tr>\n",
              "    <tr>\n",
              "      <th>256</th>\n",
              "      <td>1</td>\n",
              "      <td>257</td>\n",
              "      <td>0.037663</td>\n",
              "      <td>0.799063</td>\n",
              "      <td>0.804712</td>\n",
              "      <td>0.253453</td>\n",
              "      <td>75.133617</td>\n",
              "      <td>0.0001</td>\n",
              "      <td>500</td>\n",
              "      <td>cuda</td>\n",
              "      <td>0.0</td>\n",
              "    </tr>\n",
              "  </tbody>\n",
              "</table>\n",
              "</div>"
            ],
            "text/plain": [
              "     run  epoch      loss  ...  batch_size  device  weight_decay\n",
              "250    1    251  0.037753  ...         500    cuda           0.0\n",
              "247    1    248  0.037766  ...         500    cuda           0.0\n",
              "251    1    252  0.037741  ...         500    cuda           0.0\n",
              "248    1    249  0.037761  ...         500    cuda           0.0\n",
              "249    1    250  0.037780  ...         500    cuda           0.0\n",
              "254    1    255  0.037678  ...         500    cuda           0.0\n",
              "242    1    243  0.037902  ...         500    cuda           0.0\n",
              "246    1    247  0.037766  ...         500    cuda           0.0\n",
              "253    1    254  0.037670  ...         500    cuda           0.0\n",
              "243    1    244  0.037834  ...         500    cuda           0.0\n",
              "244    1    245  0.037797  ...         500    cuda           0.0\n",
              "241    1    242  0.037949  ...         500    cuda           0.0\n",
              "255    1    256  0.037668  ...         500    cuda           0.0\n",
              "252    1    253  0.037709  ...         500    cuda           0.0\n",
              "256    1    257  0.037663  ...         500    cuda           0.0\n",
              "\n",
              "[15 rows x 11 columns]"
            ]
          },
          "metadata": {
            "tags": []
          },
          "execution_count": 140
        }
      ]
    },
    {
      "cell_type": "code",
      "metadata": {
        "id": "pR5rsqRo2KPV",
        "colab_type": "code",
        "colab": {}
      },
      "source": [
        "m.save('cicids_batch_lr_grid_search_validation')"
      ],
      "execution_count": 139,
      "outputs": []
    },
    {
      "cell_type": "markdown",
      "metadata": {
        "id": "JhQPvHAY4wiS",
        "colab_type": "text"
      },
      "source": [
        "# Best Run Data\n",
        "![image.png](data:image/png;base64,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)\n"
      ]
    },
    {
      "cell_type": "markdown",
      "metadata": {
        "id": "jMCUIp_-5DVA",
        "colab_type": "text"
      },
      "source": [
        "![image.png](data:image/png;base64,iVBORw0KGgoAAAANSUhEUgAABEUAAACpCAYAAADN0oNSAAAgAElEQVR4Ae2de6+21zbGfRXfYsc/ElGJkIgd4hB1qiC2Eoc4pSQo4rQdUkVKRdmkKalNqTpr0aJF0c+z5Fp1vet6xzvmfXhO67nX/fvjzbzveRhzzDF+c8z5jOdZ7ed84hOfuOEfNoABGIABGIABGIABGIABGIABGIABGNgbA5+ztwWzXjY5DMAADMAADMAADMAADMAADMAADMCAGCApwi9l+KUQDMAADMAADMAADMAADMAADMAADOySAZIigL9L8MkKkxWGARiAARiAARiAARiAARiAARggKUJShKQIDMAADMAADMAADMAADMAADMAADOySAZIigL9L8MkIkxGGARiAARiAARiAARiAARiAARggKUJShKQIDMAADMAADMAADMAADMAADMAADOySAZIigL9L8MkIkxGGARiAARiAARiAARiAARiAARggKUJShKQIDMAADMAADMAADMAADMAADMAADOySAZIigL9L8MkIkxGGARiAARiAARiAARiAARiAARggKUJShKQIDMAADMAADMAADMAADMAADMAADOySAZIigP8E+G+++ebNhx9+ePPcc8890bb1TKrW9tFHHz369+lPf/rBrfGUPvrWb/3Wm3fffffmgw8+uPn+7/9+bEW8mGXgHPHjM5/5zO2evdb9Kr3++7//++av//qvb770S7901kan3KNblYVPt/mt3DWcoeeIMWv30TPPPHPz/vvv37z99ts3n/zkJ8++57cWY865v7dmi7Vsuf/v/u7v3vzP//zPzeuvv37zeZ/3eYsZuzSb1ve+5vX8lNs8U67JbyRF+JDzRKC9hgvHuTbJNVzoTrG2T33qUzf/+I//ePPGG2884b9TyLcMkiIcMmZhaXmO+HHOC/bcun75l3/55t///d9vfvEXf3G41/ZySZ+z1Zp2fLrN2HINZ+ipYsySvT1i+tIfALcWY865v7dmixFDc/XnTop89Vd/9c1bb71183d/93cnSexdek/M2Y/2bZ4x9+k3kiIkRZ646J/qwnGfYM/Nfc4De27uU7TrVzz6NY98dQp5yODwOBUD54gf97lf73PuU/nkGuXcp13vc+5r9MUhOt2nDU8VY45ZAx8Ap8/MY2x7CI+MufPHUjaX9ltq21PLWzov/e58jy2Os8VukiL+EPkHf/AHN7/zO79z+1NnfajUNwWCyO35IbMevHrXzyV/7/d+7+Y//uM/bv73f//35u///u9vvvmbv/lkH0x/6qd+6vbPFSRbP5vTLwG+9mu/9la+A87f/M3f3PzJn/zJbbv6/OEf/uHNF33RF9320U/sfvVXf/Xm3/7t325/bq72v/qrv3pMx8///M+/+a3f+q3btfhPSfInoF73q6++erZ13vfGHR3YS+ynPyN55513bv1v+0me16Sfz//+7//+zX/+538++jMdcSP/uc+hpTn1vFlaB/2UV/7Uv+eff/6WBfH0p3/6p4840TctOVY//f+zP/uzm6/6qq+61dEy3Kf7c6pT7AfJ8BwqZaeXXnrpsZ+Kin/pJh3d12uVHeWzX/iFX7j513/910c+SXtXX3sfVeY15sd+7Mdu/umf/ulWjr49sT2q3bWv/vZv//ZGv6SxL6f21c///M/f7lf5wD+D/cIv/MLbb2lk2x//8R9/JMfy1paS+8ILLzza15KrPew/5/AaPvvZz97GBDGhPr/xG7/xSCfFEcVHxTfZWjbXT3e//Mu//JF+U+uUzqeIH4qpin32uewtfcSt5riETz2HmXOZe8E2dVsyZf99z/d8z+05IXvrn/4cTXHe7afYR5bVld7rOhf++I//+FYHsf6jP/qjtzp4DdLD4+1DtanuFDri09PeFeyr+yq9P7wnrcccb+53TGk+dc7qrqN9lXcxM+19WeO1dXe7y9zb0m/q7PE5ovNC55Pm0L+8jy1Z47d927fdxmPHOOmSe7GupcaYelZ3a5k7G5boOddnbn9r/Oh+K/10NsoGOis9l85X/UpPNtZZPGcLjZs7n85piz/6oz+6+a//+q+bH/7hH360BulkvX/913/9tl620r1c6xW7//zP/3zzIz/yI4/GeA/Zl8mD5Omc1ueQvGO6r8bOsel2j8myzmVfdKVsqXPFdy+fccmo7g66Q/gs137VfU1jLXNqn1W+NYfm+7mf+7nb8Ze4W1lPyuMSDluw3+6SIvqTAx18DgIKuAq8DloZEPSch6TePS5LHbCncLaCYhfk9PM2fYAaBbI8SF588cXbIJv66Vkf4PThSIFIFwkFluyTQezc6zyFrY6V4UtRvdDN2e/rv/7rb957773HbCc7JgO//du//UR7fkg/Rndzmr7zs3XwIaKDw8kx9ZHPf+mXfumW1XroWoY+REs/y3B97gPrfwpOOhmay0kCXYS0Z62HS69VuuhQzgul+qS9q6+9jyrzSgTo8uU5VHqekd29N+f2ldYh2Y430vs7v/M7b/X03rRdDy3l22oHrcE+Ha1BMecHfuAHbmOD+tbYIBlKwmqNc+uU7p1P05Zz6xv5XDK8Xy/hU8+hefNf7oVq02RK63z22WcfJalShliTzU9hrzl7eq+Ls/StdfUa5DfL0nOuE5/e/TcjrsGn9tN9lt4f3pPWZY439zumHPHopLOZzj2nZ8dr617bk/lRHNJY6e5zZErG3Bq/5Eu+5PZPF6qM3It1Ld63ll3PasvSuak1qN/c2WBZh5YjW0kX8zF3v9WZL/vbR9Ll137t125jlhL1ep+zxZLz6Zy2UNJDa9CXK2nLn/3Zn71NCqiUv/7hH/7hsTNFdtKdRXcCjfMesi+TB7VrDYrl+nLzC77gC250b9XZry+U1D7H5qhd89W5ch31ubt7SYYZ1ecWJQy9Dpey0dI73ohv20vsnftuVdfN+8NNjuwuKaJN6W8+9YsLH4IOthkQ9Ox2bQK9a7y+kVBmUwFBgSnHHLNZ9A2uApsCnbLd3/3d3337Icof8BzIpJOCoILhb/7mb97q8Od//uc3X/ZlX3b7AVIy1G4Z+nDs7LUz7/ogpGyt+lSdz73OOt99vPtS5ANbOiyx3zd90zfd+kQ+0K+OvuVbvuX2g2KuQRl8caJLiX6poYtPtp/iuePVcvMQ0bfS8rk4kU6+0LmvSl0kfKh2LKsu94HHnpoTJe0s037x4a9f5vjC4PlVeq3eN/7FVPapvvY+8sGtvp5XH1b1Lc9P//RP315iVJ+y/PwTP/ETtzaxjCX7Shc7xQutSXL0Lr3zmzHLX1v6ci0/+VuYqqOZUTz5mZ/5mdv4oW+2xIWYNduKDT/5kz95y4UuLnpXMkftS9ZpWx4aJ6W/7CSf61tU2aL6sL6fw6f2QZ3L9Vl286vdseAv/uIvbn9tI8YVq21z9TnWXqlH9+wLtmwq5r7hG77h5l/+5V8eJQ7NRbKu59zzx+qIT097V+j8fOm60b6Y4+0UeopH8awPXF/5lV95833f9323/zFwx6k6R42Fbh+tQe1zZ4/3vPTQF006e7xPfH55nlGZdw4lnr/ru76rvZNpvOfzmdPJdHzRLw8Uq9VnydnQyVpTt2R/z91vpbvODH/Y9S8p/Z76jGwxdz6d2xY6N/WLCPlf/Ph817vv4EqMqF6/FBG73b3Ha+1is9qcLFISRHd439/0hZzabZ85Nt1viinrUstk13pUefpVte4PSlroLJeu+iVV3kXn9lmdV5+9dDfI8+mcd6s6P+8PNyEi3+4uKaIPid/4jd94GzgS7hp89EHxL//yLx/bePWiWMekvEOefaAqYOS/mhTJAJY6OCC5v3VIvd1f2fguIaIx2V/vHqN6y9x62V2GlthP69ZPQJVoso/0QVqHnphRu34u6D9vUh8dTLK3gvmp7Dblk0wU6ADu5vRPXXVQex0qOx9XHiyv1k/p5DG11GVVB5wuCamHL5X2k/4spI7Vu32mQ9ffitV+lmGZujhpj+Q+0lrkp5dffrmdRz5VAkG+Tj0tw2uf2lf+ZYj6PP3007cXhSm96zqm3u3z1M3PVcf0sWyifrKR1+D+ms9yHVPcZ2qdx3LhRIJ08pqrD+v7OXw6mtv1WZrDtJ3aZQvZ1+ypLm3uPnnBs43TTznX2mfPN/pFUp3vHGcfPn14/w2ougfN5Rxv7ndMWWNMjVNz8dpzj9agdrfNnT255z0m97vnGpX68zqdAzp/FCsUC/Qhr97PRjHGcpWU0Z8c6m7yHd/xHY9ip23j8yDL1N1yDimX7G/Hwpxfzz5bNK8/7OsXF/5A7V//pF4jWziWjc6nc9vCOuseIb2VpFOpL9CcsPP+qHbQe+XG66lngX6tJnliReN0j/OXvbJTZ5+Oza5f2nnq2V+ipP+qPOvfrVX6SL71Gu0znUf6Alqf3bxHJC/PzHPeraZsQNvDS5DsLilSg4uh9ubVz9r04UqZT31Qy41XD2KPGcm07KWlvkHUnAqo3TfeDjj6EPkVX/EVtx++9Q2kAoQ+sGXm1r8U+d7v/d7bQ1LZWgVsBVP971X1rux+PXil67nXudQe5+znQJyH0BL7pU7ixP91cB942S7b/uAP/uDthUc+0sUh2495NnvdBx0f/HlY5Vz6tkS/khIDkiPWxJzY61iuPFhWrbdOnQyPyVJsKsmgPadvTL7u677u9tsT2cp+0eVI72K++6XI13zN19z+Pa501y+sun1jX8tX+q+tK9kpmXkhrGtJPfWsC4fm0Lca+oWW/k8kig2WsWRf6XDXBUn7T7/c0Xj/jXGdb+272ZVM6dbta/tH65cuSg77T5Okhy854kLfeEmGSr3rT8b0p2NL1llt6XmXcvErv/Irt/5Rf32LprilXzYkF5fwqX3guXQmyG6uz9Kx2Ty4zR8W/EsRfVhzzPa3esfay3ONSl/CtY6uj/1zzrMPn+4vKTLirWNwbZ33jP5MQXHK35TrFxI6E+biteeb2ttzZ0+35y3P55fnWVLqXNYHQ8Vb/6ogx3XzuV3nnn41UxMial9yNljOoeWS/T13v9XcOoO0Bv33vPTrG51n/jOL1G1ki7nz6dy20Bmps1L86WzVnUNnl2K+zwb/qka/FNGdJ9dVnx2b69mpP3PV3emHfuiH2vGdfTo23U86dl8WV33yXZ9B/IsNfbmls1rJH92TvFb96lYsK+nX3d8kb26f6Ve7kqm70xd/8RffypE8sSH7SMY571a5Zp4fXhKk+pSkyP//32ecadTFO//lxvNB7I04CljVyEvf/bO6nF/PDogOYLVdh6j/I026hGc21X11YOrniKO/8csP0Ode51J7nLqfkwW2SZa+wM3Zb+QDZbF9wPnwSfnyiT5UnWpNPmxyDq/B60yf5ry+GORYP5s1s+36LH3hO5aTbg2ex3PoFwD5qxy3W0+tq/NZ7lt/++SxLn1wS0ZdS9pLz/6TB491aRlL9pXk+O+mdchrXboE1rkOfVdiq9v75mLkU+khO4/WIJmysfQa9UnWqi09b/psao2jWCybm4tL+NQ6au32t8pkq9vr6mN7jP6O3jbXHMfay3qOStlMOpmD2m9k71znsTqO5pBe+HQ7F02fLfJb/We+5nir/B3yLh7r/Bmn5uK155za23Nnj+8CPgMk0/HATHueUTmypz7w6kuDlFnX6xijmKw/SaixP/fv3Nkw0m9p/ZL9PXe/9Vz6wC/dZQP9OY0+bLvN9p2yRfffsLCtJOectvCf50h3caFfASlRpzu6zz8lH3RfHK1BOnZ8q79Zk43qeM2htSlBsJRNfxGSsqynbT5VdnqknvKdvrhL+XpONuf2mZNIUzKk4znvVlM2oG0759cSX5EU+f+kiAKJAoo2qw4XZXH1N5C5eRUs8n3tZX/OIdJBAUAX5jzgHKQc6NTmf8rU6ptUy9Y3BjroFSAdfPQrEn1D6T7+aan7qF8eGudep/W4dDm6gGj9vtDN2c8+cIDWh1t9q6HDz+upB7dsq5/Ddr9i8Ji1ZdUz1+B1pk+rfGX2xZnG6QDX4ab+Zs1se51Z+sJ3LCe6zOmbFO85XR5ee+21W508h/SWbWVj2dp6WE+1yxayr/R3e+5T/aJHv47QnlG91qpvGnzBkIy6lmovfQPlnzhLhr4Jkr4pY25fSaYuCbroSU8zV+c69F3fmNb/q1TOY586dsieinP+73ZoXq1Ba/N/KV5sVHbn1llt6XnTZ3NrVBzU3NJVdveeMheX8qn0zP9TgOyZbFkvc+cy917+Hxe0Hvk/48Up7DVlT9ksOah9L3X24dPt/y/UfbaY8ywdz+Z4q/wd8v7KK6/cxnvHMv1S07+Olbwl8Vr9pva22qfOHt8F8gxwPHCcmltbtafjnc5nj7XMtLWeHWOqDPfLODV3NniuY8q5/T13v/Xc+g9Q624qWyj57XqVc7ZQn7nz6dy2cEJOnx+0Zv8yUIkrr+VTn/rUbbIg7zT2p/roTLAfszRr+gVy3t/dR3X6PLCUTemnXyfl3WnNOb3kHO7+zzLJptY7tc90Z/Ivv8SEkiz6M7Eq45x3K/uN8mElQDp/7iYp0i1+a3VdoNvaGtD34QcVfDz2sX7uqgu8/q9A3/7t3/7oknQJmx2SnLiEXswx5gXbYBsYgAEYgAEz4A//+tLAX4iqTsmCmijwmD2U93m32oN997JGkiL//0uRLTicpAgH4xY4lY6jb3T8jYa/8djKeo7V09+eav36tkO/SjtW5trxJEWIH2uZoT/MwMBhDHAGHmY3eJu2m36doV9PKini/6aI/nxJdfr1qv+M+xg7+rOG72tdufTXUMfosWTsNdytluhJn2mur8U+JEVIilz8w9m1wI8e5wtSXAgft60Pbv28tfs/C1yCRZIij/vkEjZnDmwOA/tkgDNwn36/xH7Xn5voiyX/+Y3+3FV/UqI/BzvF/FtMitzn3eoUNkfGdcQLkiIbSoqwaa5j0+AH/AADMAADMAADMAADMAADMAADD4MBkiIkRU6SWSYgPIyAgB/xIwzAAAzAAAzAAAzAAAzAwJ4YIClCUoSkCAzAAAzAAAzAAAzAAAzAAAzAAAzskgGSIoC/S/D3lPlkrWT6YQAGYAAGYAAGYAAGYAAGYKBngKQISRGSIjAAAzAAAzAAAzAAAzAAAzAAAzCwSwZIigD+LsEnS9pnSbELdoEBGIABGIABGIABGIABGNgTAyRFSIqQFIEBGIABGIABGIABGIABGIABGICBXTJAUgTwdwn+njKfrJVMPwzAAAzAAAzAAAzAAAzAAAz0DJAUISlCUgQGYAAGYAAGYAAGYAAGYAAGYAAGdsnASZIin/u5n3vDP2wAAzAAAzAAAzAAAzAAAzAAAzCwBQb41UT/q4k92uUkSZGnnnrqhn/YAAZgAAZgAAZgAAZgAAZgAAZgYAsM7PHDP2vuE0EkRUjokNCCARiAARiAARiAARiAARiAgV0xQIKgTxDs0S4kRQh+uwp+W8haoyPfrsAADMAADMAADMAADMDAeRnY44d/1twngkiKkBQhKQIDMAADMAADMAADMAADMAADu2KABEGfINijXUiKEPx2FfzIuJ834459sS8MwAAMwAAMwAAMwMAWGNjjh3/W3CeCSIqQFCEpAgMwAAMwAAMwAAMwAAMwAAO7YoAEQZ8g2KNdSIoQ/HYV/LaQtUZHvl2BARiAARiAARiAARiAgfMysMcP/6y5TwSRFCEpQlIEBmAABmAABmAABmAABmAABnbFAAmCPkGwR7uQFCH47Sr4kXE/b8Yd+2JfGIABGIABGIABGICBLTCwxw//rLlPBJEUISlCUgQGYAAGYAAGYAAGYAAGYAAGdsUACYI+QbBHu5AUIfjtKvhtIWuNjny7AgMwAAMwAAMwAAMwAAPnZWCPH/5Zc58IulhS5Omnn7555513bj766KPbf2+99dZjH8afffbZmw8++OBRu/u98MILj/W7luDw/PPP37z33ns30vtadFqjh+xvG8vudR1a34cffvioz6uvvnrSdR4if25MZWjJujq+tFbbRjbQvGnbOk9lWX3ndE15PN8deMfaTb5TnFG8sV2rTPm2+rX2Sd7FiHmoZfq+yqh6WB+V6rvl+JFrucRztW36Z25+7VfZWjJq37k4mLFAvu/mzT6VK803dfbVWJJ8dfGr6r+Fd9kn94l1rj7tYrH7uqxj0h9L92n6q/Np9Unnh6pHt9drn9TV6zmmrFx1OlT5S3Sa2xNr5tV8xLm78636I9+PiVNLfFL3x5L9lvpt9VkMag+r3Ooa9qb3kjhVbXIM3yQI+gTBHu1ykaRIvWT44peXhLoJ3OcaA7d17S5LdaNe27sPz7xA6RKU7w4utr3X6/dj12Qe7P8l8ufG1HbpKPnpozqP3uthKVvkmCrD8+QlX8/5fm77HWv/ax1v267hItdi/ybLapc/0qc5Rs+HzCuZ+QHYc+ceERNVF83nvlM6VR33/H6If2wvj01fua3u7eqv2m5Z5lNyNCb9WMc43jo++D1lWB+X3Txu21qpdeos9/qtv/eA94veZUeV7lPLapcqo/bXe92n1T9VZn2XjDqmm7eyo3m17lyfGPR7p+vaupzTXFU7p8y6tm4dda05h2Vl3dS8lp/7wzIoH0+U2DeHxCnZcs4n9oX5U9nN9RD9orXPxZaHuO6trsl7QbFIa6jsduuqfdbyvccP/6y5TwRdJCkiuPNiJGD1nh8YXDd1qHeb4dJ1Xou+/djiYd8Fizw0Rpcc+eVUvpEN0/fyYVeXvu3as07rqv5wcFWb56hr0LvkqL0GVtVVGaN5/E30JeyXdnlIz+lPr6urc1uWtrv8cGq2ch49mwlzo7pOz9xXlqF+in1bjR9exyXLzrZdXdVJe1W2Vlyol2LzIjkeZ79qXNeufjnvknihPvK1ZHseya+Muk2lYtJUe/a91mfbTx+8ZPsad2XHWpexuFtXF3vTH3WM/WkfWye/u3/K6OawHLVpTPa3jNzrnqdbX63z+LVlzuexXZ3bVHZ6Z11dp8bUum6Ork5yiXOPJz7SF/ksrkZxqtr/UJ+Iu8peV5d6PZTnjs+HsraHuI6MSV5fV+c2lR3LXV2OyWcSBH2CYI92uUhSRHDOZaXVRwdD/vMlJOG9z2cdUP7w212e7lO3pXPPBZfuEF4qe2m/Lljp4KofHlLeIWOWrCXlLvFpZz9fgjV+yZy5Lp7vLo7pC9tljgv389jOP25z31p27VPzqv+SD631MvYQ4ke13SXe1/pHOuWerH7IdvHiNSzZu8nXknhh2VlOjVPb3FmZsq71WevwHun81+k916+zW/qjyly6T6dkSOYSLpKxJf2rrmvfO1sk8528zr4Z53INOV7jvE+WzEucuzvT0o7dc/qss39XJzlrfOI57EPrkXvUdddQSq/8HKC1Sq9uX3V1spliqGW8/vrrjyXFbQ+3q6xfqF2DHfaqw1ycqnaxP4/he48f/llznwg6e1LEwCrovPHGG48ClQOdAHefDFJ6vubLYXc5qJv1Gt8dcBRAbO88EHwIe33uUwPOoWuzr6s8z6uyyj5kjGRoDVMM1XbppIv8Sy+99Mg2dbztosPYevpg1nivw/1ObT/P+dDKQ31sP5th+1Dy1Ga59oPK9Knbl/Io/2q8/DvnA8m0XrWv+UiOah/e7/y31D+dzbwna2yp/qnvVZZZ8dml/nPxosrIWFHbqvzavtV3nzlT+ms/5L7s+lbb1fccs3SfLrH5Et2SHfPmPe7Yoz6p4zHPZk/6W47X0s0zarOuKq1vjUnpv7XzjmRaZ8q7BEr6wnYZ2W+NT7xPJMtyVY5kZ59LP0sn7Rfrat3FnZ/dJt1qnd+9B/yesSVtlzJUf+n1Mt8d/7LFkjhVbWYfJxfqo/fR/avKIEHQJwj2aJeLJUV8McjSQchQ18Clvu5TIb7v9zUb7r51zfllT9nVh4baVOfgoYNZfvC72l2XY1LmmudDgt4hY6Z0dlvlS+vr6pJLs5pcepxKyz6X/dbYekt9D/Gx1md/+ECUD/wNdbanv9TXPl07b5U/srHmEEvWq/ZTfTJS23n/+LK01j+d3bQnZWuVtd17V75Kbmo/vWec1LvHJluqM1spw+vQPCO/T+mZsrb2LPukjVJ/x8sad7NPPnu/q7/+jfbX0n1afZpz6dn6SV5t83vd6x6TfnbdlBzLW1J26zNj3RyjNunlvTGKSem/tfOOZC5Z4976pC+89pH91vjEe0ayLFflSHb2ufRzrqvO3a2j1nV8ap1dTE75U/NmP54fT2Kc2h5L4lSdszLg9jV87/HDP2vuE0EXTYr4sPYFYSpQCWhdeuYuqt4Aly7XbLhL6zY1Xxf8HVTkn+5gljy15SVvao6ptkOC3tox5ktrndJFbepjxroD1XOnLNvLF3P9PFMyLmG/ufVstd12lg1zDSMe3afy3PnQfV16Lo3185J5R30t16VjV5XpdpVbjR+5hks8j2w+x0Xq1vW13NzX9pvKHK9n9avnVcdaJ7fKkvwqS306eXXsFt/rHh2tQf0ci7s+1W62dR3j+qn9J/mdT3PeJeeImcm5Ot4kV31OcYZa1pp1j2ySumotnX7pv47RkWzpOZKZdub54w+a6QvbZGS/NT7xfUWyLFflSHb2ueTzFEfSo1tHrUu7WPfOrmoTy77DqdRYj6E8b/JjZN8RAyMfSk5lwLLX8E2CoE8Q7NEuZ0+KCFAFm7wEGnzXCd6aAOnqDPs1lGs23DXoax26Q8P+0CExCj6nXG+ng+Y9xX9TRHLE1dIDLtfbXfhkt05f21NlBuWUl31Oab+U+5CeOztPcWG758XGz44tI/vkXPns/t28I996jErHLbGU9fUZHpZfupb6p9rY753fRvbv5lJdx9Oh8SLjrXXs6ty29bKzabemzk/uN7JPN6arsxyXI5+6XTLmzpHRXh/NP2LOc64pO1m2kdo6WZ0fpKvP3ZHeGud4tnbern+nG3Uf/yrJv9qxPU7hE3NhH1q2fFMTa267j3Kkp3XxeZ9810ivnVEAACAASURBVLoR42lX9dE9IROA3TjPS7n8rD6FrTpfZJyqc4y4WcP3Hj/8s+Y+EXSRpIiCsYKQg7IA14XDQcmBTX0c8By4PKZuhPt+l57W/751WTN/Fyhsf7U5wNgPli0/nOoA7WR1dZ5bZdde68yV6nOsn0fB1gdmF3htD8tUH/e33GTB/c9pP8/70MrqT62vq5tad+3f+cs+sk/rmNG86edOB7VnDOv6uG5OlvtR9gx0PhvZqmNgZP8aI/Q+ivNL4kU3T+VPemcMHq1jq/XVplpHV9f5yWvubKa2bkxnc8vx3COfWqbuJ44POdbPmmO0162r+ri/yjXM5rjuuVt3V5dju/mzrmOw1nVzdHWed84X7kfZs1ztLzvVus7+ta7bb13dffthSqe6bumqdWqveq8lz16L2tRHfTsZ3q+a22MoL5sISXt3PuzqckzHTVeXY/KZBEGfINijXS6SFHEg0iUi/2UQEvTZpuepi0sCfR/PWz3sfQDI3rab/JC2rmvzwZNjPPaQ0jxYnuX7YOtkzo2p7Z0MyRdXnse2SA5rIJWOPlAls47p5j23/bq1PYS6asslXNR1y1+ZvKv+Un/1Sd6Xzltl59xrda2MpCyeH7+QLfXPyG7yjfyt0n06Lmp8qJx4bJZz8cK6Z4zp5HY65jxbfq420lqqrTt/1DVrTBeLc79rzNQ+7Wyf89hf6pf1+bxkr9f97TFTcnOOJc+yq9e+xH51bdZJunq+ap+cw32ybm7eagfLoHw8xskeoxhwCp9UX9e9dC3+6PRy/DBrZl46qy3vdJVxvztu+D33oWWovBY77FmP6qPKbmeb2qfjqBvnuj1++GfNfSLoIkkRgWfQnfjoApCD07UnRLSeLR/2Plzsi/yA6CCh9bldZR4i7nNM6SDmOar8zr5TYzTesmqZsuu65jj0YZprrSynfPer83R93Jfy7oI45WPZqeMi7Sc756VJbUt4n5tXcsRKx4vbKnd+l86po57n1lH77/19zj9T9tTYmhSRPSsXudfrHrcvVdZ4medWyrDPqqw6Xv2m9LecrZajfaM1p13r3upsMjdGNhrNV/2Qc9snih9Zn8+O4envbNez9LOfqq4e7/Zjy8pvjXud/eb2ke3nddkuqevcvNm30yHbeX787JO95aNql2TuUJ9UHvVe57mG96pnxoW6h1955ZXbeJxrqX3q/5K37gHJ197s7HoN9tijDtVHNXbKZ8mFbFS5SSbmbEiCoE8Q7NEuF0uKzEFJ+93hiC2wBQzAAAzAAAzAAAzAAAzAAAycj4E9fvhnzX0iiKTIU+fbaAQxbAsDMAADMAADMAADMAADMAAD18cACYI+QbBHu5AUISlylT+h5OC4voMDn+ATGIABGIABGIABGICBh8LAHj/8s+Y+EURShKQISREYgAEYgAEYgAEYgAEYgAEY2BUDJAj6BMEe7UJShOC3q+D3UDLbrINvaWAABmAABmAABmAABmDgcAb2+OGfNfeJIJIiJEVIisAADMAADMAADMAADMAADMDArhggQdAnCPZoF5IiBL9dBT+y6Ydn07EdtoMBGIABGIABGIABGHgoDOzxwz9r7hNBJEVIipAUgQEYgAEYgAEYgAEYgAEYgIFdMUCCoE8Q7NEuJEUIfrsKfg8ls806+JYGBmAABmAABmAABmAABg5nYI8f/llznwgiKUJShKQIDMAADMAADMAADMAADMAADOyKARIEfYJgj3YhKULw21XwI5t+eDYd22E7GIABGIABGIABGICBh8LAHj/8s+Y+EXSSpAjG7Y2LXbALDMAADMAADMAADMAADMAADMAADFwvAyRFPnG9zmHj4BsYgAEYgAEYgAEYgAEYgAEYgAEYOB8DJEVIitywwc63wbAttoUBGIABGIABGIABGIABGICB62WApAhJEZIiMAADMAADMAADMAADMAADMAADMLBLBkiKAP4uwSdTe72ZWnyDb2AABmAABmAABmAABmAABi7FAEkRkiIkRWAABmAABmAABmAABmAABmAABmBglwyQFAH8XYJ/qawj85DhhgEYgAEYgAEYgAEYgAEYgIHrZYCkCEkRkiIwAAMwAAMwAAMwAAMwAAMwAAMwsEsGSIoA/i7BJ1N7vZlafINvYAAGYAAGYAAGYAAGYAAGLsUASRGSIiRFYAAGYAAGYAAGYAAGYAAGYAAGYGCXDJAUAfxdgn+prCPzkOGGARiAARiAARiAARiAARiAgetl4GJJkU9+8pM3b7/99s1HH310++/NN9984sP4pz/96UftH3744c1zzz33RJ9rgUm6vfvuuzfPPPPM1eo4ZSvZ3754//33H61D69G727LMflOyl7TJfvKx5X/mM5+ZtePcmKp7p2+VIeaqvtLFelUOs819XOYatsRyXf99vlf/pE2X6KX+ijOKN11/M1L9nv6SP2t71Ut9Khs5n/qLP5VZPzdP9uX57uCs9l/DhXyuWF19IfuO4qBtr3m8v1XWec2T+3QxZ+3ZJ1mVP+uzxVI26877XIv6TO1b913CwZxPq4zO1nMyrI9Kycu9XpkwGyo7PlLWmufK1aXst2Ze2WbL96Q1/ji27zFxaolP9nr21P15rJ8Yf3cun8sWNUbXc7ebd698d7ag7nBGL5IUGV0SEnQ95+Xh1BeIU0LiDXvKC84p9ZuS5cMzL1C6AOZ7HW//pb9qnzXvVZ7t2V1OLXduTG3XOOmbPqrz6D0vsxojW+SYKsP6ZFn7aB35gVnvKTPH8nwXvKoPq7/mbOX+Uyz7w06ypmfFG9dZD79rXj0v9aH3WDIgGdbPclXWPnNr3GO7/eH4U+04ZROP7exc922Ng7XdsqxHfZcedYxZkGy1+90yVFfX85C40Dq1t7z+zlde/9S+1bhqb4/zflKfav/q0zpG7/UMmJORa7A/O76yX9U92w59zrVZjyk7Vx2qLaTHkrUvndfyl8bNQ+3wEMbZNx1Hp/CJfeG98pBizJz/uz0+N4b2u3vZpW3hvSDuNXdlt9On9tkT3509qDuc34skRQR3XowErN59CfIm8IHgAz4/qFyLk70WffuxxcO+CxZzh0Zegk7hB9nQvre8rs5tKrv2rNO6qj/Mldoso14a9S45aq+BVXVVhuryXzcmZaqvebYeOZ7nO3umP22Xrs5tWdrG2peVLfczI4oz6Qv5q3Kh9pSzVA/Npb5iUf/Eh+fvZHRzuz/lx2x0duvqqr3kQ50hnS/Mi+R4XO71rl39cl7zpHGdDNXJ//Wb8spWx0BX5zm2UNp+2muyf91fXoP7Te1b903bd3WWNfKpxqit6qJ3j1kiw3NbXsdX9tGz5sh4UtvXvourGl+6upQ7Z7/k3+NqXTdHV6e5tPe2ek/y+i9RTsWpan/pU+s6+9c68ddxX+susd5Lz1Ftcen5me/ujrfEFnNxqpOxZ747e1C3jrm010WSIgLWCY+c3M8KWmq/9gCtw0iHvPTtLsRezzWXXcCZ0lfrnPLd1NhRWxfAZNP64SHHHzKmXh5Snp9T7lqf+gI9x637yfael/LJoJW+sH3muHA/jx3xLTn6EGEfq9TYkW/qvJbv+UZlyq8fWjrdlsodzbeH+s5G1T/VDvar/GHfq3Q/t+eeXBIvOh9apsolMsyI+nZ6SI76nPJDdOp4iefUv/OfdXDbnF3V3309VmVy0NlyiT9S7hoZ9qPL5Ct1VPupz1DPqfV5LuuuNtdlmet0fdpPzzVmqZ/GeZ8smVc6bf2eZPucu0yfdfbv6tb6xHPYh16TfHmNMUZ6KaHmf+JPOnd7uauTzbTfPP611157jGvbw+0qxX3uJduI8sl72rltMhen6vz251b4rvrzfnnGpmx+9qSIgVXQ+exnP/soUDnQSTkHQbWrn4LUqS8RU0Y4pK27HBwi59JjHHAUQHwojA4E+y59day+llkD2Ojw13yHjNE4+WiKo9ounXRJePHFFx/ZZs34kW0kd2Tj0Zi91R/qY/vZ9rUPJc82TNndJcp7wv0t0773eO+XUXxK2R3PvqyJO81R33N+nj8+KG37NfGi2q7zhfrUfVnfqxzrMhUPa0ypMsyI1+N3M+H+ejfTrttq2e0vrSXXKHtMfUCz7W0326L6tvqwvnucy85fdUx919j0W9XBslVa7ylmsv/SZ+lU7eW51FbljNpS9/RHjk//rZ13JDPl8/xxrEtf2CYj+63xSbJquSpHsrPPpZ+lk85XlZrbuos7P7st213nPt4DfvdZrjFpu5Rx6j0q2fxbZ4Mlcara1D42A27X+0M5Q70mynU8HWKviyVF8gOFnx2EBK/rssxAdsjizjlmqxtONpeNfWjIRqrrgkd3SB9r00OC3iFjpLv4yXVad7fJDmZQberb1Y041Ngcb/kuk+tOD/ejvPvwUO00x2A9EDW+fljIutpftrefVOrdvNnvHpO+Vl+323/Jw0jvZK+OtxzKu4PPvljLRdpw5Av1kVyfOZWblKFn+beLk+5n31Zd1e51aK6UYbbMnmXpPfu5fotl7gvrX9ede9R9srT9qm073y7xqX1V473nnJORa+p0sJypNvc5pOzsNbKR5I/aUr8Rc7nWtfOOZB6y5oc+Jn3htY7st8Ynda/NyXb7fZS5rjp/t45a1/EpG86dtVPzVj14vzufT22LJXGqzlkZcPto77id8nx+3LJtL5oUUcCSsRT8FaQcqARvvSwqSI0uLNdg8K1uuC74O6jYP7Zvd8C47dDykKC3doz50lrn9FQffxjq1uu5qyzbTBzMzTGSMTduT+22UWWwuyimXSrP1Yd1/MhvjkGKOYpLL7/88u2HUo3P+fxsfc1FjQd1Xo2TbvlB17pYhmVT3h3WtvNaLtKGnS8sN21vBro9rX4+r1K2nzWH2lOe22op+ZZlBuqcek9Wqowtvcsm1S61ru7buj77a4oD98m5ZEft6WrflK/+PgOWyKi+6fiy/Ll1ud/aspNr3auNJHvUlrrXdVmn9NXaeUcyLZvyLtalL2yXkf3W+GQrMWbEqG3RraPWpV08rrOr2sSyYoP/aazHUN5xeUlbjBgY+VC6VQas72jvuJ3yfnx87XY/e1JEBlCw8SVQ7wbfdQK+XigFtILVtQaqrW647tCwP/Iy1dWdCuZOBzFwiv+mSMfSlN4ZbLsLn/mtHK71/9r+Uzo/1La1XPgw9KUmS8eWevHJPtWnadcl/kp99Zyy81k6WFfJXTtP9t/jc9rZ65+LF+6nMve460f+7eZSnXny+CzXxpyMrfmcMqWfP6hn/Rafq029F3KP+HnKzlWObJEcrPFp2jH5WCJDeljfWl7qDO30NEtqy/X5ec5+aQePUalxXtfaebv+KZvnuw8mnf27urU+MRf2oW0u31xTjBnpaX0dN5LvWjdiXAlm2dK2077NpHM3zvNS3jF6CVt0vpDvRp8PRtxcG9+XsB1zHM/qRZIiCsYKQg7KAlyXHwclBza/y7HaGDnm2py91cO+CxS2/9Rhc0r7i4N6GHd1OWfXXuvMlepzrJ9HwdYHZhd4RwG3zu05Rv23yovXdYmys2lXN6XLXP+O9W5MsiIuzIjnHvnZ7XVMN6/6wsX8Idb5p6uz7WtZfTFl9/S7+uk9z6VOts4y6VPbRvNUduqcnlf1ncyt1XXrq2tY4s+uT9aN9lLOn8/WIflYIsPjXOZ416kc7fnsc+hzN2dXl/LTVq7Puk7fWtfN0dVZ/siebqe8i3+dHav9Za9a142rdR33Xd19+2NKp7pu6ap1Kv6KM70nz16L2pxs7WQ4Hmtuj6G84/LStuh82NWlXh03XV2O4fn+fHzNtr9IUsSBqH6rkkFI0Nd2B7JrNOBWD3sfALK37So/1It/PVTd9xSlebAO9WDr5pgbU9s7GfKZGPMBalskhzWQSseOw9ov56tjluiW4/f6XO20hItqK9m+Jtyyj+cwA2qr86gtfd5xonnqnsl5uv1Tx1iX5C9l8PzxoW07yX6dv+bs1Pmi82mND9VfdZ6qV23Xu/ukj6vcOf46uVuqm4qVXodsMrVv05YjDpb4tPq4jqnvmreOsc4uO77UNqr3uGNL2dU26/Su8s3iyH7qX9nMOSwv6+bmle2m4qRlUo55OYVPthJjxEueveLC8cOsmXm35Z2uMu53y/S790DK0DxweP8flKuPKrudj2qfjqNuHHX37+9r88FFkiJatEF34qMLQApUbncQuzaDWZ8tH/Y+XGzr7tJy7vU5iFmHPKRk427+qTHJjmW6TNmS63qVHYeqc5+OQ9sv5ZoLl1Wfqb4eQ3mXoLD9q906LtJu6p+XpmzTs+OQ5GRbcjHlc+vV7ZmUJ1bVR2XWw8Vhh/DU3pd9p7gY+cL72D5Nv5sTt2Vp31dfZp/ktsry+OQi+ZOcymf23dqz4mkXZ3Md3b7tfDrHwZRPPV+1ddVtiQzLUjniq9M/xx37XPWsca+bf85+0inPv47VuXlzXZ0O2c7zXTwccXQqn1Tu9X6N9q965v6ssdT/7a9cS+1T/5e8dQ9IvuJPx/o12mcPOlUf5Xnq/ZBcqK5yk0zswWas8S6WHmOLiyVFjlGSsadxNnbEjjAAAzAAAzAAAzAAAzAAAzAAAzBwxwBJEf5f4lf5bQGb9G6TYgtsAQMwAAMwAAMwAAMwAAMwAAPnYYCkCEkRkiIwAAMwAAMwAAMwAAMwAAMwAAMwsEsGSIoA/i7BJ8t6niwrdsWuMAADMAADMAADMAADMAADW2KApAhJEZIiMAADMAADMAADMAADMAADMAADMLBLBkiKAP4uwd9S5hJdybTDAAzAAAzAAAzAAAzAAAzAwHkYIClCUoSkCAzAAAzAAAzAAAzAAAzAAAzAAAzskgGSIoC/S/DJsp4ny4pdsSsMwAAMwAAMwAAMwAAMwMCWGCApQlKEpAgMwAAMwAAMwAAMwAAMwAAMwAAM7JIBkiKAv0vwt5S5RFcy7TAAAzAAAzAAAzAAAzAAAzBwHgZIipAUISkCAzAAAzAAAzAAAzAAAzAAAzAAA7tk4CRJkaeeeuqGf9gABmAABmAABmAABmAABmAABmBgCwzwq4vz/Opii3YlKUJCh4QWDMAADMAADMAADMAADMAADOyKgS1+eEfn8yRySIoQ/HYV/LaQtUZHvl2BARiAARiAARiAARiAgfMyQILhPAmGLdqVpAhJEZIiMAADMAADMAADMAADMAADMLArBrb44R2dz5PIISlC8NtV8CPjft6MO/bFvjAAAzAAAzAAAzAAA1tggATDeRIMW7QrSRGSIiRFYAAGYAAGYAAGYAAGYAAGYGBXDGzxwzs6nyeRQ1KE4Ler4LeFrDU68u0KDMAADMAADMAADMAADJyXARIM50kwbNGuJEVIipAUgQEYgAEYgAEYgAEYgAEYgIFdMbDFD+/ofJ5EDkkRgt+ugh8Z9/Nm3LEv9oUBGIABGIABGIABGNgCAyQYzpNg2KJdSYqQFCEpAgMwAAMwAAMwAAMwAAMwAAO7YmCLH97R+TyJHJIiBL9dBb8tZK3RkW9XYAAGYAAGYAAGYAAGYOC8DJBgOE+CYYt2vVhS5Omnn7555513bj766KPbf2+99dajD+MvvPDCo3q3u8x+1xQYnn/++Zv33nvv5tlnn320jmvSb04X2dU2/uCDD55YR/WJ3udkrmmX/T788MNHOrz66quz8ufGyBday9S6qoxuXdLFMqSjxuTaplh2vzrPkvV57J7LY+0mOyvOyEedHc1I53f3H8mY2jPJjNlxad9Xbmq756d88gJ0DBfyuWJ13cey85RP1b5k3pTRsVf9XvvU9ofGhfiXjaa4Hu25OqbuM+8t96u2rLZ2P5ejead8WnWwv1Ran6qH+7jd8x9T1jnm1qq51vLc3Q3WzKv5tnxPOsY/a8ceE6eW+OTcd7q1671UfzEojlVeak7mefIMX2OTJXGqyjuG7y1+eEfn8yRyLpIU8QcRXwxc+oJQYXa7yrnLVN0Yl3j3hu0uDJeY/5g5fHjmBUo2znevzx8cVXbJgUP1MA/2f52vkzs3prZLhuSnj+o8eq+HpWyRY6oM289c+t1r0bzm2far83bro+6p28ScbG9brrWb+yfL1a7ym+KKfVPbRzIqB3XPVDl6r2PM6GjuTgZ1x3Fhm3fxq/qn+tRjp3isY/Suf+m37ON4kX08z0PkQrabO8dHey5tqOfqL9vN/rFtc/+rLd9T5mje9Jf66z39lTL8PNLtnD5NPb32KT2rvbz+1LGuI+fwWrNual7Lz/PUMigf/9Bo3xwSp2TLOZ/YF/a1ym6uh+gXrb3e8x7iOh/KmrwXHNcru906a5+1fJNgOE+CYYt2vUhSRHDnxUjA6n10WfGmuMag7bXo248tHvZdsKiHhtZYfaNDV/+6gLS2rpPf1aXcrj3rtK7qD3OkNslS/7oGvate7TWwqq7KUJ/6zZfk216jS+Ip7Zd2eUjP6U+vq6tzW5a2u3xjX2S7ns2I4oqZyD4jGa43JxpTuUg5eu5YqvusjuH98Q8KtkfHQFfn/i7lY50zigv1UrzEp90cWScGxJv86jlrfOg4qRzUd8vacmn7aq/J9jXuem3uN7Vv1df9ZH+PVZn+6OzocXW/u77Ou8SnOb+eNW+NKZ0uddwx7538ri7nSFu5Pus6VmtdN0dXJ7nae7JvPZc9N+XH8W4qTlX7y2a1rrN/revuH13dQ/RJtcVDXONDWlPGJK+rq3Obyo7lri7H5PMWP7yj83kSORdJigjONQkO9deBqo2Q4N73sw4jX4J1kG3xsJ8LLrJx12dNgJnzUydLB5dsKxt34w8ZUy8Pc3IP9WmOWzJnpwd1/cE2x4XtZj46dtXHFyP7SqXHuhzJ8AeojEdTfnZ/ybNslZ57xHj25fkuQWK/pE3muLAPZHP7XqVluH3Kp4fMW+fqOKl9HiIXWpOTk50d7Qe3jfat+43KHDeyo+ZIP0vWmnmrv1IXcyR5WT/SJfsc89zJty5q62R7zdmmtfncHa0z7bdkXjG/9XtS2uicz+mzzv5dnfRZ4xPPUfeAfOk9es41rpUtvXT/9z/vrS6WdnWymT5vePzrr7/+WFLc9nC7yi3e5dfadSv95+JUXYf9eQzfJBjOk2DYol3PnhQxsAo6b7zxxqNA5UBXAXdAvMZgnbp2l4Nsv9ZnBxwFEB8K9UDwoaI1ah31/Zi1mYcawEaHv+Y6ZIzGSf+pZFxtl07i7qWXXnpkm6nxmsOHstfjdZgP29jtx9juIY891Mf2sxm2DyXP9krZ9pfZdh/7S+2dDNV5Do2p75ajsnLlNo0xDy5V53bKu0SIbZG+c51K7zOVWd89j/pWH+b7IfN6TD3b9J7nWX1/6Fz4zKm+mdtztX99r/bu/Fz7SMaaebvxqcd97XUxk0xJJ+uqttRxqi1tlnbJ8em/tfOOZKZ8nj+Oe+kL22RkvzU+WXLmeb77LrVenY0qpYt1F3d+dlu2u859vAf8nve4tF3KUP19r3/v849iWLc3bCv72Ay4Xu95Z3N9V27xwzs6nyeRc7GkiD8EZNkFIdVlUOwAvoa6NRvuGvS1DravDw3Vq64GDwUhZ9vzQLGcQ8tDgt4hY6x/rtM6u02cJYPq29V167dO6p+2s+yurtPFOu29tD2rjWRP2VJlZ6N6IGp8/bCQdbW/ZNa67J9zql7+1r86R/YTU8mV2+o+87yS6z6UjydGDuUi7TjF0Mina+eVb8VFFyuki9vVp7Lx0LnQ+uqazb4vsqM9l36sz9Vu9lnuTclPm6+ZV/KnfGq/1rW5Ps8Az3uqvd7Zy+vv5hi15d4Y3Wm0Pq9x7bwjmdWXvPeJ3pH91vjE7ElW2nkkO/tc+jnXVefu1lHrOj61zlFc9hxT87oP5eNn8znssSRO1XkrA25fwzcJhvMkGLZo14smRXxY6yBWkKqByvV5mTDg11au2XDXpHsX/B1U7B+V6QO3a+yxazkk6K0dY46W6Ks+vkR3B6rnnpKVh25eMtNW1abZxvP4W86RPW0z+SV9U31Yx5tl+WypjI4BjdcHppQjeZ18z9OVcDF90bLtZae0X/VrttXnrq/lJjvpU7evnVdz6VwzF+Yh5ei5nn1VZ/XJGFzbt/Re96h0r3Var+PwkrVpfGdD+01708mQnCufNc+SeatPrZ99a1+7flSe0qed3l672qoOo7bcG1pHx1zabO28I5lVP95JiowYNRvdfqt1yarHJeOuUymWHSccK7Kd5+mz+Rz2GTEw8qF0qAxYrzWxZ4sf3tH5PImcsydFBKgCVV5gDH7WqZ+DlPob7Gst12y4a1pDd2jYH7L/KQLM3Ho7HRT0/LfN3filYyRHXC1lKINtd+GTLt3cqWPaL+Vln63ykms493Nn5ykuzGpebPzs2OKY4vosNd8SGSPfdfqO+o5st7b/SM5Dru/sPMVFtUW3J0d2z7ny2TKXzJvjupiS8cJyaznSr/bbwnvaQ/ou2XNT65I87++pfmpLWx8zb12DZK/10dr+U2vrZHmtauvGdmtInrt9IjkaJ45Ha56at9Oz0426PilyCp/YP/ahbS3frElEety5ypGens/7N/mudSPGleyTLSVLfXQPyARgN87zUl42OdL5IuNU9ceImzV8k2A4T4Jhi3a9SFLEH0wclAW4LjUZlDJYZdCrG+Ba3qVj1f9adJvSowsUebDkc8o55XrFQT2Mu7qcv2uvdeZK9TnWz6Ng6wOzC7w14HZ2yD5+Vj/Pq7Lqmm08f3zodjbq6qbsNdd/xHfKrDI6n6t/x1Mda7nmQu2uUznqn332/tzZqKsb2Un72nvcfZb4tJsj6zq5kp9cZH/PnSzks9tVduOyfUvPaY+R3kvXK1mjc7fb2yMfWY8676h/t4Y61jIv4dNOz67OOqns9M26zn61rpujq/O8o33mdsq7D5ydHav9Za9a142rdR2/Xd19+2NKp7pu6ap16rOE71vJs9eiNidROxner5rbYyjvbNQOpAAAE3dJREFUuLy0LTofdnWpV8dNV5dj8nmLH97R+TyJnIskRRyI8ltaPWcQcmBy8Epgr/F5q4e97awgY7vKD3nRVFu+23/pL489pLQ861APtk7m3Jja3smQz8SdD1DbItel53yXjsmk56l90l6VDa/P6+10o+7usmc72W721xIbaWxNuOU4+29KZpXRcaLxyZLnqPy4XqXkJieHrC/l7eXZPjuUC9lZdldpmy3x6dy8lpG8iYsuXlh3c5B9HjoXU3vC/pAN0o6uz7LaKdv8rLksx/7JWO1+Luu8HmMZ6ld96rFT66q6nmOvr13rHM9aV9U758h12z6218jGsl3GPMugfPJDZxenTuWTyt+I6fv2S6eX95lZM3vSVW15DlfG/e5463dx7rVaxohh96N8ktlz2KT6qLLbzVn7dBx141xHguE8CYYt2vUiSRGBZ9AVwPSvBiC3b+UA3fJh78PFvuhsrkPD7SrzEHEgOaZ0EPMcVX5n36kxVV/LrbpLbrZVDrUmH5Lq58M012pWLaezX52nri/l8Xx32E75WHbquEj7yc55aco2Pdt3klPb/N7JqHum48J9pnytNnOjckoP60N5942gbVdtPMWFmNIeVZm2tL8ss/PpHI9LZJg5z9PFi4fMheJpF2fTF1p/3bfp02pD21Jl2rP645B5q4yOC/epHNY1pZ6n3uvWwXNM2c96zfGsfnn+pW0tY25e91OZPsx6nu/OPNtiFKfUfgqfyBdmReWpefQ6ji2rnrmHaxx45ZVXbvd/rqX2qf9L3roHJF/7uGP92LUw/knOl9ik+qjGWfksuZDMyk0yMTfnFj+8o/N5EjkXS4rMQUn7YcEDu2E3GIABGIABGIABGIABGIABGFjHAAmG8yQYtmhXkiJPrds8BBvsBQMwAAMwAAMwAAMwAAMwAAPbZmCLH97R+TyJHJIiJEUe+0k5wX3bwR3/4T8YgAEYgAEYgAEYgAEYmGeABMN5EgxbtCtJEZIiJEVgAAZgAAZgAAZgAAZgAAZgYFcMbPHDOzqfJ5FDUoTgt6vgR9Z8PmuOjbARDMAADMAADMAADMDAQ2eABMN5EgxbtCtJEZIiJEVgAAZgAAZgAAZgAAZgAAZgYFcMbPHDOzqfJ5FDUoTgt6vg99Az3qyPb3VgAAZgAAZgAAZgAAZgYJ4BEgznSTBs0a4kRUiKkBSBARiAARiAARiAARiAARiAgV0xsMUP7+h8nkQOSRGC366CH1nz+aw5NsJGMAADMAADMAADMAADD50BEgznSTBs0a4kRUiKkBSBARiAARiAARiAARiAARiAgV0xsMUP7+h8nkQOSRGC366C30PPeLM+vtWBARiAARiAARiAARiAgXkGSDCcJ8GwRbueJCmyxYWjM5sABmAABmAABmAABmAABmAABmAABvbNAEmRT+wbAAIA/ocBGIABGIABGIABGIABGIABGNgrAyRFSIrc7BV+1k3ghwEYgAEYgAEYgAEYgAEYgIF9M0BShKQISREYgAEYgAEYgAEYgAEYgAEYgAEY2CUDJEUAf5fgkw3edzYY/+N/GIABGIABGIABGIABGIABMUBShKQISREYgAEYgAEYgAEYgAEYgAEYgAEY2CUDJEUAf5fgkxUmKwwDMAADMAADMAADMAADMAADMEBShKQISREYgAEYgAEYgAEYgAEYgAEYgAEY2CUDJEUAf5fgkxEmIwwDMAADMAADMAADMAADMAADMEBShKQISREYgAEYgAEYgAEYgAEYgAEYgAEY2CUDJEUAf5fgkxEmIwwDMAADMAADMAADMAADMAADMHD2pMgnP/nJm7fffvvmo48+euLfhx9+ePPcc889+lD+5ptvPurz/vvv3zzzzDOP2q4NVun97rvvXrWOnc0+85nPPLJx9Yna6phzrVNy5X/r0M3d6TI1RryIG8vsGKrzfvrTn35szbVdsiqndR5xa11rm3VR2enjcZQfB+Nq/yVcpO3UX/FGccf11SdzfqgyxEj6MZ/te43J+nzONWS/ypX1pXzyYD6GC/lfsVoybNslPlXfyo79bTm1vWOrm6v2O2Z91uVaSzFf7VZ1VZ+6b2sfvVdb6r3rp7rRvLkHtU/1XmVIX+/h6quubycjdT3HXq93qyX2W8LZ3NrXzKv5tnhPqj6+xHsXpzzvKXySPIrtqb3jeR9CKQa1h1U+hPXsYQ1L4lS1w175rnbg/cn74xqbXE1SpF5UFLSXHPJrFnuqvt6wc5elU813bjmyfbeWc63THyR8kfQ8U4f03JjaLpvVddV59F4PS+nQ2cI+8Dx5yddzvruvS4/xel1P+Xjwqnaq/pqzl/tn3KgyJaNykXI7GdnuZ3Ey90GnzqP3HNPxZ/mUd2xUH9pHU/HC9vPYtLvball96nm8by1r9C551eeuSya7efNDiuddsr4q69reZQ+tbSo+er1TNtK6ZI+0k/3R2Wk0b/WPZajetqt9pPtIN7VJpxxvXZM56Th1rnjuNWXq5UTFlJ3rWm33tN+StS+d1/JPve41NtpKX/smmbHup/CJfWFfq+zm8pwPqdTa6z3vIa3voa3Fe8ExtbLbrbf22RPfnT2ou7s/rrXF2ZMinUKCPS9K3gQO0j7g8wLUybmPOuuubz8ewmFfg4ltes51Sna9ZHZ11kVl1551CoLVH+bKFwH1r5dGvavec6VM12U5mqd+E51j8hKZ9Tw/Hrg623d1nd0cM+SHZGvkL7FiLixvJMPtLs1VcuM2l3VfWXYdo/fKpGVQfsxHx0BXV+0l/+oMka/1Tz6pffze+bTbtznvUrYkZ+Rjc1Hbp8ZY52suvS6d6bJ9XZ91d7+6b92eZWcT+SD3u+V187pNPky56dOuj9nIeOE6z1NlStess9yUkTqsfRbLlemuLuXmOl2fdV5T6ljrujm6OsnV3nso9yTb6xyl7D2KU9X+mr/Wdfavdd3e6erOsb77llltcd/6MP/j975qj4xJbuvq3KayY7mryzE8T/thr/a5eFJEAcoXCQV3Gd51ebnxoaryWpwjff3hVweZLiVew7XouEYPX9QUPHLcudfZBSsxINuO7HnIGMmSj/KSl+vUc5Vb32v/Ljjbjt08qhPvWl+VxfvjQbmz/RwXtqHHdv5xH5cjLpbKUL+MVZbr0jyon+tGc4qPKVkev+fSfkkbzHFhH8i+6ls/QKYsPVefevza86f6eU5O7V/12up7ct35z+ty29y+HdmxcrB0Xs+vMufu5ul8pDHSveufsv28tJ/7z5VaZ71/eA61deNt62xL+432icZ5HyyZV/Z6SPektNepn9Nnnf27Oumwxieewz70GnKvuO4aSumlJJH/aa3Sq9uHXZ1spjuXx7/22muPxX/bw+0q6166BjvsVYe5OFXtYn9uhe+qP++Pfw64b3tcNClieBWE8uB2EHTwk1G6uvs2Vs4v/bYeSLWGuQ/sp16nGagBbHT4y+aHjDFDU+ur6/c8eVjW8Z09fDDXNVlecp0M8XwXDG2rasMpLmy/9InGzyUZqt/NivfzlAxfuCTD89eykz9an+byvFUO74fv/bTdHEOdT72nX3zxxVueHBPm9nL1veV4vMr0t3XTONW7X90HuZ6tPXeXXK3Ba5aNpvac19vJqfZ2X5Vd/2zXs/dl+rXuyfqeMjx+zl9TMlLe0mfJq3FuSpdRm/lTmf5IPdKOa+cdyUz5PH98DqYvbJOR/db4xDFIsixX5Uh29rn0s3RSDLSu1l3c+dlt0q3W+V39sz3vcWm77JMx4NLrZr6P98CSOFVtZZ8nF+qj9zxr6zje7+7f2OLOFhdNiijoKzjVw1zwKhBmUOrqrslxD2HD1cOhs++p13lI0DtkjFnz4Zhrc1tlzsG1cpgHatdHc0hWnau75KQePN8FokN8LPvZH+JU7/JBjS9pZ/s+fbVGxpx8zTXaVxrbscTBfcdB+krPh3KRcub2YedTM9H5K+NDnUf9k62ON7Xb5273u+S5LuXkPFt77vaD7bt032rN6psfmMxG+iht082b7XpWn7S922V7zaV/U/HEOox8ZZ2788FzHVJqvqrXlC6jttwb0rWzRdpx7bwjmYes+aGPSV94rSP7rfFJ3Wtzst1+H2Wuq87fraPWdXzKhqMY4Tmm5nUfyvE5fSrbLIlTda7KgNtHe8ftlOf35xZtfNGkiAJPdzkQvKpXu43Y1bntGsqtb7hRIKm2PfU6Dwl6a8f4Q0XyVNfld/Wpl0u3qfTcKcu2E7P6p59nSka9GHcHdMrm+S4o287Vht1FMe0mv6Rvpmw+4mKpjJGOqY/Z0L7Jej9LP3OjDyAvv/xy+0HE/fdejmw+x0XabarvSP7Ij/Jrd8EesZV6+NmyxcJIN7V1H1AtY0tl3V/SvdZN7dtcq+zv/SM/eP/Ijtmvm6Nrr740DxlTPGe3p91f+lf5+e5+KTfb1z539vIcnS6jtuRP6+uYS1+tnXckc+1699A/feH1juy3xieON5XfkWzPfelyxKj16NZR69IuHtfZVW1i2bFE5an2puelvLvfLbXFiIGRDyW3MuC5ro1v60W5notL2uxiSRGDWy8hWqyAV31+OHXA6g74SxpoNNfWN9xS/Zf2G9mpqx8dXKf4b4qYpaUH3FSwte6dvm5TabZlK9ePgrvbKZ8MjJ2d5Z8RF7Z7Xmz8XOPMiIu1MvShQbJG/lu7X7oPGSPZe61fy0W109QeH7WZi9zTktv1V514WxpzMjZ08jTPWo7qmq/pvfrPtvVezbLu27l1TNmpzpuy1NbNNZI3kpW+TPnd80h213eurpNlXdTWje/WIP4cX0csapzvYWvn7fp3ulE3ji3dmbPGJ+bCPrSt5Zu8c7v+vsqRntbHcSP5rnUjxtOG6qOYkwnAbpznpXzyrnZOm3S+yDhV5x5xc218V715vyxXS+19saSIoNYlpAvCDmy+pBhyBa4MgEsXdYl+0iuD6iXmPOUcSz+MnWOd3dxdXa63a691Zkz1OdbPo2DrA7O7FJpFy+z6dDYy09fKr21yTWX1p3Tr6qZ07vrPcVHldTLUp/Pz0rHqV/mrbFVZvH98aHb+6OpG9ur2rPtO+VT+0jzuq7L2n2Or9peMjA1mQP1ynjXry3HX+Fy573Rcst6uz5TsUZvqR2d35y/pO5Jl/yUnXZ1kjGR39pir65ju6lJOZ7+sSy49rtZ1c3R1Hn/KNVvmQy07O1b7a+21rhtX6zp+u7r7tu2UTnXd0lXr1OcGx8/k2WtRmz9bdDK8XzW3x1De3wfWzoddXfqo46aryzE835+Pr9n2F0uKKDApyTEKPKrPb4z03CVQrsWYWz/slwaMc6zTB5MCnfxZD7bOx3NjansnwwyqVHs9DOu7+kjHvEDXPqN566Wk04e6x4NyteUSLqoN6+FZZdb+3XuV4T6jerernNpX4s6XM/WtbKUcnu/YqD5cy8XUXpzyaR1nPXyG+V0yRv7q+mh8nm01xnp9U3JH811j/dSesL5TfnAf28Xxu+4n93PZzat5Mp67r8sa31WveUZf0Lh/9ZXec693HHjOQ8vkyHqobiSv6lDtqXHVPjmH5Wbd3LyVbcugvItvtkWNN64/hU+qr+f2jue+dNnpJd70z6xl7FR97s3KuN+9F/2e+9UyVF56vcz35D6oPqrsdjarfTqOunHUPWn/vdvkYkkRBSEFrwxG1fgOTuo3dXGp4+7jfcuHvQ+XKV/Ypudap4OYfN1x0c07NcZ8WV6WuU7JzbZ6ENo27tNx6KDtPin/3Haz/IdaTvlYa+64SFvIF3lpWsrFlAy3iZXKi9tUmp2OB/dLfTq23I/y8cP6GC40VrZWWe0659M6b/o/felY4DIZqPEi+bQ+NS7lePfZajlnY61L66126fZ62skfdEZ2qfNWP9hXKnMveh+7fWoe9+38pTrLUNn1Gem+pN5ze44l9qs8dzrJbpaZdrFOc/O6n8rOh9nO812cm4tTx/ok945k6f0a7V/1zJhb97D/m0K5ltqn/i956x6QfO2DjvVrtM8edKo+qnGqxnbZpHKTTOzBZqzxLpYeY4uLJUWOUZKxp3E2dsSOMAADMAADMAADMAADMAADMAADMHDHAEmRT9wZAzCwBQzAAAzAAAzAAAzAAAzAAAzAAAzshwGSIiRFrvInlASh/QQhfI2vYQAGYAAGYAAGYAAGYAAG7osBkiIkRUiKwAAMwAAMwAAMwAAMwAAMwAAMwMAuGSApAvi7BP++spDMSwYcBmAABmAABmAABmAABmAABq6HAZIiJEVIisAADMAADMAADMAADMAADMAADMDALhkgKQL4uwSfzOz1ZGbxBb6AARiAARiAARiAARiAARi4LwZIipAUISkCAzAAAzAAAzAAAzAAAzAAAzAAA7tkgKQI4O8S/PvKQjIvGXAYgAEYgAEYgAEYgAEYgAEYuB4GSIqQFCEpAgMwAAMwAAMwAAMwAAMwAAMwAAO7ZICkCODvEnwys9eTmcUX+AIGYAAGYAAGYAAGYAAGYOC+GDhJUuSpp5664R82gAEYgAEYgAEYgAEYgAEYgAEY2AID9/UBnHmvL/lDUoSEDgktGIABGIABGIABGIABGIABGNgVAyQnri85cV8+ISlC8NtV8NtC1hod+XYFBmAABmAABmAABmAABs7LwH19AGfe60vG/B+mOKPWuAQ35wAAAABJRU5ErkJggg==)"
      ]
    },
    {
      "cell_type": "markdown",
      "metadata": {
        "id": "IQMnmQmk5h_S",
        "colab_type": "text"
      },
      "source": [
        "![image.png](data:image/png;base64,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)"
      ]
    },
    {
      "cell_type": "code",
      "metadata": {
        "id": "cICQBF_m5iel",
        "colab_type": "code",
        "colab": {
          "base_uri": "https://localhost:8080/",
          "height": 35
        },
        "outputId": "20b88233-e490-41d5-9a70-d6ee1839750a"
      },
      "source": [
        "m.val_correct"
      ],
      "execution_count": 97,
      "outputs": [
        {
          "output_type": "execute_result",
          "data": {
            "text/plain": [
              "0"
            ]
          },
          "metadata": {
            "tags": []
          },
          "execution_count": 97
        }
      ]
    },
    {
      "cell_type": "code",
      "metadata": {
        "id": "YDrkwzfJC4XO",
        "colab_type": "code",
        "colab": {}
      },
      "source": [
        "x=network(validation_set)"
      ],
      "execution_count": 98,
      "outputs": []
    },
    {
      "cell_type": "code",
      "metadata": {
        "id": "tkccL9GpDI4C",
        "colab_type": "code",
        "colab": {}
      },
      "source": [
        "val_corr = 0\n",
        "val_corr += x.argmax(dim=1).eq(validation_labels).sum().item()"
      ],
      "execution_count": 100,
      "outputs": []
    },
    {
      "cell_type": "code",
      "metadata": {
        "id": "-JFoJf_jDUa6",
        "colab_type": "code",
        "colab": {
          "base_uri": "https://localhost:8080/",
          "height": 72
        },
        "outputId": "dfe994cf-9151-45c5-f296-b00ad5f1da59"
      },
      "source": [
        "x.argmax(dim=1)[999:1043]"
      ],
      "execution_count": 108,
      "outputs": [
        {
          "output_type": "execute_result",
          "data": {
            "text/plain": [
              "tensor([0, 1, 0, 0, 0, 0, 0, 0, 0, 1, 1, 0, 1, 0, 0, 1, 1, 0, 1, 0, 0, 0, 1, 0,\n",
              "        0, 0, 0, 1, 0, 1, 0, 0, 0, 4, 3, 0, 0, 0, 0, 0, 0, 0, 2, 0],\n",
              "       device='cuda:0')"
            ]
          },
          "metadata": {
            "tags": []
          },
          "execution_count": 108
        }
      ]
    },
    {
      "cell_type": "code",
      "metadata": {
        "id": "CTUjyxY-DX5j",
        "colab_type": "code",
        "colab": {
          "base_uri": "https://localhost:8080/",
          "height": 35
        },
        "outputId": "b55e7adc-3427-4c20-a5a3-dc6c5940e079"
      },
      "source": [
        "validation_labels"
      ],
      "execution_count": 110,
      "outputs": [
        {
          "output_type": "execute_result",
          "data": {
            "text/plain": [
              "tensor([10, 10, 10,  ..., 12, 12, 12], device='cuda:0')"
            ]
          },
          "metadata": {
            "tags": []
          },
          "execution_count": 110
        }
      ]
    },
    {
      "cell_type": "code",
      "metadata": {
        "id": "aDpgpOpMDn9w",
        "colab_type": "code",
        "colab": {}
      },
      "source": [
        ""
      ],
      "execution_count": null,
      "outputs": []
    }
  ]
}