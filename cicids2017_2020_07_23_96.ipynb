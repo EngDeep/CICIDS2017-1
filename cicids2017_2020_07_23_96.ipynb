{
  "nbformat": 4,
  "nbformat_minor": 0,
  "metadata": {
    "colab": {
      "name": "cicids2017_2020_07_23.ipynb",
      "provenance": [],
      "collapsed_sections": [],
      "authorship_tag": "ABX9TyMYfQRk45286o3H3Jb9hAvw",
      "include_colab_link": true
    },
    "kernelspec": {
      "name": "python3",
      "display_name": "Python 3"
    }
  },
  "cells": [
    {
      "cell_type": "markdown",
      "metadata": {
        "id": "view-in-github",
        "colab_type": "text"
      },
      "source": [
        "<a href=\"https://colab.research.google.com/github/vintagedeek/CICIDS2017/blob/master/cicids2017_2020_07_23_96.ipynb\" target=\"_parent\"><img src=\"https://colab.research.google.com/assets/colab-badge.svg\" alt=\"Open In Colab\"/></a>"
      ]
    },
    {
      "cell_type": "code",
      "metadata": {
        "id": "1pBzXZvsv7B9",
        "colab_type": "code",
        "colab": {
          "base_uri": "https://localhost:8080/",
          "height": 74
        },
        "outputId": "f5cff864-70ce-4c1a-a781-863ea22df6c8"
      },
      "source": [
        "import pandas as pd\n",
        "import numpy as np\n",
        "from sklearn import preprocessing\n",
        "\n",
        "from collections import OrderedDict, namedtuple\n",
        "from itertools import product\n",
        "import time\n",
        "from IPython.display import display, clear_output\n",
        "import json\n",
        "\n",
        "import torch \n",
        "from torchvision.transforms import Normalize\n",
        "import torch.nn as nn \n",
        "import torch.optim as optim\n",
        "import torch.nn.functional as F\n",
        "\n",
        "from scipy.ndimage.interpolation import shift\n",
        "from PIL import Image\n",
        "\n",
        "import seaborn as sns\n",
        "sns.set_style('whitegrid')\n",
        "%matplotlib inline\n",
        "import matplotlib.pyplot as plt\n",
        "import matplotlib as mpl\n",
        "plt.style.use('seaborn-whitegrid')"
      ],
      "execution_count": 1,
      "outputs": [
        {
          "output_type": "stream",
          "text": [
            "/usr/local/lib/python3.6/dist-packages/statsmodels/tools/_testing.py:19: FutureWarning: pandas.util.testing is deprecated. Use the functions in the public API at pandas.testing instead.\n",
            "  import pandas.util.testing as tm\n"
          ],
          "name": "stderr"
        }
      ]
    },
    {
      "cell_type": "code",
      "metadata": {
        "id": "zFwJ2ymAwMTT",
        "colab_type": "code",
        "colab": {}
      },
      "source": [
        "train_url = 'https://raw.githubusercontent.com/r-dube/CICIDS2017/master/MachineLearningCVE/processed/bal-cicids2017.csv'\n",
        "df_train = pd.read_csv(train_url)"
      ],
      "execution_count": 2,
      "outputs": []
    },
    {
      "cell_type": "code",
      "metadata": {
        "id": "EyXMG7QcwbcB",
        "colab_type": "code",
        "colab": {
          "base_uri": "https://localhost:8080/",
          "height": 218
        },
        "outputId": "08b7fed6-d761-4ec0-f7d3-abde05a07e16"
      },
      "source": [
        "df_train.head()"
      ],
      "execution_count": 3,
      "outputs": [
        {
          "output_type": "execute_result",
          "data": {
            "text/html": [
              "<div>\n",
              "<style scoped>\n",
              "    .dataframe tbody tr th:only-of-type {\n",
              "        vertical-align: middle;\n",
              "    }\n",
              "\n",
              "    .dataframe tbody tr th {\n",
              "        vertical-align: top;\n",
              "    }\n",
              "\n",
              "    .dataframe thead th {\n",
              "        text-align: right;\n",
              "    }\n",
              "</style>\n",
              "<table border=\"1\" class=\"dataframe\">\n",
              "  <thead>\n",
              "    <tr style=\"text-align: right;\">\n",
              "      <th></th>\n",
              "      <th>X1</th>\n",
              "      <th>X2</th>\n",
              "      <th>X3</th>\n",
              "      <th>X4</th>\n",
              "      <th>X5</th>\n",
              "      <th>X6</th>\n",
              "      <th>X7</th>\n",
              "      <th>X8</th>\n",
              "      <th>X9</th>\n",
              "      <th>X10</th>\n",
              "      <th>X11</th>\n",
              "      <th>X12</th>\n",
              "      <th>X13</th>\n",
              "      <th>X14</th>\n",
              "      <th>X17</th>\n",
              "      <th>X18</th>\n",
              "      <th>X19</th>\n",
              "      <th>X20</th>\n",
              "      <th>X21</th>\n",
              "      <th>X22</th>\n",
              "      <th>X23</th>\n",
              "      <th>X24</th>\n",
              "      <th>X25</th>\n",
              "      <th>X26</th>\n",
              "      <th>X27</th>\n",
              "      <th>X28</th>\n",
              "      <th>X29</th>\n",
              "      <th>X30</th>\n",
              "      <th>X31</th>\n",
              "      <th>X32</th>\n",
              "      <th>X33</th>\n",
              "      <th>X34</th>\n",
              "      <th>X35</th>\n",
              "      <th>X36</th>\n",
              "      <th>X37</th>\n",
              "      <th>X38</th>\n",
              "      <th>X39</th>\n",
              "      <th>X40</th>\n",
              "      <th>X41</th>\n",
              "      <th>X42</th>\n",
              "      <th>X43</th>\n",
              "      <th>X44</th>\n",
              "      <th>X45</th>\n",
              "      <th>X46</th>\n",
              "      <th>X47</th>\n",
              "      <th>X48</th>\n",
              "      <th>X49</th>\n",
              "      <th>X50</th>\n",
              "      <th>X51</th>\n",
              "      <th>X52</th>\n",
              "      <th>X53</th>\n",
              "      <th>X54</th>\n",
              "      <th>X55</th>\n",
              "      <th>X56</th>\n",
              "      <th>X57</th>\n",
              "      <th>X58</th>\n",
              "      <th>X59</th>\n",
              "      <th>X60</th>\n",
              "      <th>X61</th>\n",
              "      <th>X62</th>\n",
              "      <th>X63</th>\n",
              "      <th>X64</th>\n",
              "      <th>X65</th>\n",
              "      <th>X66</th>\n",
              "      <th>X67</th>\n",
              "      <th>X68</th>\n",
              "      <th>X69</th>\n",
              "      <th>X70</th>\n",
              "      <th>X71</th>\n",
              "      <th>X72</th>\n",
              "      <th>X73</th>\n",
              "      <th>X74</th>\n",
              "      <th>X75</th>\n",
              "      <th>X76</th>\n",
              "      <th>X77</th>\n",
              "      <th>X78</th>\n",
              "      <th>YY</th>\n",
              "    </tr>\n",
              "  </thead>\n",
              "  <tbody>\n",
              "    <tr>\n",
              "      <th>0</th>\n",
              "      <td>53</td>\n",
              "      <td>31065</td>\n",
              "      <td>2</td>\n",
              "      <td>2</td>\n",
              "      <td>68</td>\n",
              "      <td>132</td>\n",
              "      <td>34</td>\n",
              "      <td>34</td>\n",
              "      <td>34.0</td>\n",
              "      <td>0.0</td>\n",
              "      <td>66</td>\n",
              "      <td>66</td>\n",
              "      <td>66.0</td>\n",
              "      <td>0.0</td>\n",
              "      <td>1.035500e+04</td>\n",
              "      <td>1.789123e+04</td>\n",
              "      <td>31014</td>\n",
              "      <td>3</td>\n",
              "      <td>3</td>\n",
              "      <td>3.0</td>\n",
              "      <td>0.000000</td>\n",
              "      <td>3</td>\n",
              "      <td>3</td>\n",
              "      <td>48</td>\n",
              "      <td>48.0</td>\n",
              "      <td>0.000000</td>\n",
              "      <td>48</td>\n",
              "      <td>48</td>\n",
              "      <td>0</td>\n",
              "      <td>0</td>\n",
              "      <td>0</td>\n",
              "      <td>0</td>\n",
              "      <td>64</td>\n",
              "      <td>64</td>\n",
              "      <td>64.381136</td>\n",
              "      <td>64.381136</td>\n",
              "      <td>34</td>\n",
              "      <td>66</td>\n",
              "      <td>46.800000</td>\n",
              "      <td>17.527122</td>\n",
              "      <td>307.200000</td>\n",
              "      <td>0</td>\n",
              "      <td>0</td>\n",
              "      <td>0</td>\n",
              "      <td>0</td>\n",
              "      <td>0</td>\n",
              "      <td>0</td>\n",
              "      <td>0</td>\n",
              "      <td>0</td>\n",
              "      <td>1</td>\n",
              "      <td>58.5</td>\n",
              "      <td>34.0</td>\n",
              "      <td>66.0</td>\n",
              "      <td>64</td>\n",
              "      <td>0</td>\n",
              "      <td>0</td>\n",
              "      <td>0</td>\n",
              "      <td>0</td>\n",
              "      <td>0</td>\n",
              "      <td>0</td>\n",
              "      <td>2</td>\n",
              "      <td>68</td>\n",
              "      <td>2</td>\n",
              "      <td>132</td>\n",
              "      <td>-1</td>\n",
              "      <td>-1</td>\n",
              "      <td>1</td>\n",
              "      <td>32</td>\n",
              "      <td>0.0</td>\n",
              "      <td>0.000000</td>\n",
              "      <td>0</td>\n",
              "      <td>0</td>\n",
              "      <td>0.0</td>\n",
              "      <td>0.000000</td>\n",
              "      <td>0</td>\n",
              "      <td>0</td>\n",
              "      <td>0</td>\n",
              "    </tr>\n",
              "    <tr>\n",
              "      <th>1</th>\n",
              "      <td>123</td>\n",
              "      <td>67042799</td>\n",
              "      <td>2</td>\n",
              "      <td>2</td>\n",
              "      <td>96</td>\n",
              "      <td>96</td>\n",
              "      <td>48</td>\n",
              "      <td>48</td>\n",
              "      <td>48.0</td>\n",
              "      <td>0.0</td>\n",
              "      <td>48</td>\n",
              "      <td>48</td>\n",
              "      <td>48.0</td>\n",
              "      <td>0.0</td>\n",
              "      <td>2.230000e+07</td>\n",
              "      <td>3.860000e+07</td>\n",
              "      <td>67000000</td>\n",
              "      <td>43166</td>\n",
              "      <td>67000000</td>\n",
              "      <td>67000000.0</td>\n",
              "      <td>0.000000</td>\n",
              "      <td>67000000</td>\n",
              "      <td>67000000</td>\n",
              "      <td>67000000</td>\n",
              "      <td>67000000.0</td>\n",
              "      <td>0.000000</td>\n",
              "      <td>67000000</td>\n",
              "      <td>67000000</td>\n",
              "      <td>0</td>\n",
              "      <td>0</td>\n",
              "      <td>0</td>\n",
              "      <td>0</td>\n",
              "      <td>64</td>\n",
              "      <td>64</td>\n",
              "      <td>0.029832</td>\n",
              "      <td>0.029832</td>\n",
              "      <td>48</td>\n",
              "      <td>48</td>\n",
              "      <td>48.000000</td>\n",
              "      <td>0.000000</td>\n",
              "      <td>0.000000</td>\n",
              "      <td>0</td>\n",
              "      <td>0</td>\n",
              "      <td>0</td>\n",
              "      <td>0</td>\n",
              "      <td>0</td>\n",
              "      <td>0</td>\n",
              "      <td>0</td>\n",
              "      <td>0</td>\n",
              "      <td>1</td>\n",
              "      <td>60.0</td>\n",
              "      <td>48.0</td>\n",
              "      <td>48.0</td>\n",
              "      <td>64</td>\n",
              "      <td>0</td>\n",
              "      <td>0</td>\n",
              "      <td>0</td>\n",
              "      <td>0</td>\n",
              "      <td>0</td>\n",
              "      <td>0</td>\n",
              "      <td>2</td>\n",
              "      <td>96</td>\n",
              "      <td>2</td>\n",
              "      <td>96</td>\n",
              "      <td>-1</td>\n",
              "      <td>-1</td>\n",
              "      <td>1</td>\n",
              "      <td>32</td>\n",
              "      <td>43166.0</td>\n",
              "      <td>0.000000</td>\n",
              "      <td>43166</td>\n",
              "      <td>43166</td>\n",
              "      <td>67000000.0</td>\n",
              "      <td>0.000000</td>\n",
              "      <td>67000000</td>\n",
              "      <td>67000000</td>\n",
              "      <td>0</td>\n",
              "    </tr>\n",
              "    <tr>\n",
              "      <th>2</th>\n",
              "      <td>53</td>\n",
              "      <td>49637</td>\n",
              "      <td>2</td>\n",
              "      <td>2</td>\n",
              "      <td>180</td>\n",
              "      <td>294</td>\n",
              "      <td>90</td>\n",
              "      <td>90</td>\n",
              "      <td>90.0</td>\n",
              "      <td>0.0</td>\n",
              "      <td>147</td>\n",
              "      <td>147</td>\n",
              "      <td>147.0</td>\n",
              "      <td>0.0</td>\n",
              "      <td>1.654567e+04</td>\n",
              "      <td>2.861464e+04</td>\n",
              "      <td>49587</td>\n",
              "      <td>3</td>\n",
              "      <td>3</td>\n",
              "      <td>3.0</td>\n",
              "      <td>0.000000</td>\n",
              "      <td>3</td>\n",
              "      <td>3</td>\n",
              "      <td>47</td>\n",
              "      <td>47.0</td>\n",
              "      <td>0.000000</td>\n",
              "      <td>47</td>\n",
              "      <td>47</td>\n",
              "      <td>0</td>\n",
              "      <td>0</td>\n",
              "      <td>0</td>\n",
              "      <td>0</td>\n",
              "      <td>64</td>\n",
              "      <td>40</td>\n",
              "      <td>40.292524</td>\n",
              "      <td>40.292524</td>\n",
              "      <td>90</td>\n",
              "      <td>147</td>\n",
              "      <td>112.800000</td>\n",
              "      <td>31.220186</td>\n",
              "      <td>974.700000</td>\n",
              "      <td>0</td>\n",
              "      <td>0</td>\n",
              "      <td>0</td>\n",
              "      <td>0</td>\n",
              "      <td>0</td>\n",
              "      <td>0</td>\n",
              "      <td>0</td>\n",
              "      <td>0</td>\n",
              "      <td>1</td>\n",
              "      <td>141.0</td>\n",
              "      <td>90.0</td>\n",
              "      <td>147.0</td>\n",
              "      <td>64</td>\n",
              "      <td>0</td>\n",
              "      <td>0</td>\n",
              "      <td>0</td>\n",
              "      <td>0</td>\n",
              "      <td>0</td>\n",
              "      <td>0</td>\n",
              "      <td>2</td>\n",
              "      <td>180</td>\n",
              "      <td>2</td>\n",
              "      <td>294</td>\n",
              "      <td>-1</td>\n",
              "      <td>-1</td>\n",
              "      <td>1</td>\n",
              "      <td>32</td>\n",
              "      <td>0.0</td>\n",
              "      <td>0.000000</td>\n",
              "      <td>0</td>\n",
              "      <td>0</td>\n",
              "      <td>0.0</td>\n",
              "      <td>0.000000</td>\n",
              "      <td>0</td>\n",
              "      <td>0</td>\n",
              "      <td>0</td>\n",
              "    </tr>\n",
              "    <tr>\n",
              "      <th>3</th>\n",
              "      <td>53</td>\n",
              "      <td>48242</td>\n",
              "      <td>1</td>\n",
              "      <td>1</td>\n",
              "      <td>44</td>\n",
              "      <td>92</td>\n",
              "      <td>44</td>\n",
              "      <td>44</td>\n",
              "      <td>44.0</td>\n",
              "      <td>0.0</td>\n",
              "      <td>92</td>\n",
              "      <td>92</td>\n",
              "      <td>92.0</td>\n",
              "      <td>0.0</td>\n",
              "      <td>4.824200e+04</td>\n",
              "      <td>0.000000e+00</td>\n",
              "      <td>48242</td>\n",
              "      <td>48242</td>\n",
              "      <td>0</td>\n",
              "      <td>0.0</td>\n",
              "      <td>0.000000</td>\n",
              "      <td>0</td>\n",
              "      <td>0</td>\n",
              "      <td>0</td>\n",
              "      <td>0.0</td>\n",
              "      <td>0.000000</td>\n",
              "      <td>0</td>\n",
              "      <td>0</td>\n",
              "      <td>0</td>\n",
              "      <td>0</td>\n",
              "      <td>0</td>\n",
              "      <td>0</td>\n",
              "      <td>20</td>\n",
              "      <td>20</td>\n",
              "      <td>20.728825</td>\n",
              "      <td>20.728825</td>\n",
              "      <td>44</td>\n",
              "      <td>92</td>\n",
              "      <td>60.000000</td>\n",
              "      <td>27.712813</td>\n",
              "      <td>768.000000</td>\n",
              "      <td>0</td>\n",
              "      <td>0</td>\n",
              "      <td>0</td>\n",
              "      <td>0</td>\n",
              "      <td>0</td>\n",
              "      <td>0</td>\n",
              "      <td>0</td>\n",
              "      <td>0</td>\n",
              "      <td>1</td>\n",
              "      <td>90.0</td>\n",
              "      <td>44.0</td>\n",
              "      <td>92.0</td>\n",
              "      <td>20</td>\n",
              "      <td>0</td>\n",
              "      <td>0</td>\n",
              "      <td>0</td>\n",
              "      <td>0</td>\n",
              "      <td>0</td>\n",
              "      <td>0</td>\n",
              "      <td>1</td>\n",
              "      <td>44</td>\n",
              "      <td>1</td>\n",
              "      <td>92</td>\n",
              "      <td>-1</td>\n",
              "      <td>-1</td>\n",
              "      <td>0</td>\n",
              "      <td>20</td>\n",
              "      <td>0.0</td>\n",
              "      <td>0.000000</td>\n",
              "      <td>0</td>\n",
              "      <td>0</td>\n",
              "      <td>0.0</td>\n",
              "      <td>0.000000</td>\n",
              "      <td>0</td>\n",
              "      <td>0</td>\n",
              "      <td>0</td>\n",
              "    </tr>\n",
              "    <tr>\n",
              "      <th>4</th>\n",
              "      <td>443</td>\n",
              "      <td>90102413</td>\n",
              "      <td>3</td>\n",
              "      <td>3</td>\n",
              "      <td>18</td>\n",
              "      <td>0</td>\n",
              "      <td>6</td>\n",
              "      <td>6</td>\n",
              "      <td>6.0</td>\n",
              "      <td>0.0</td>\n",
              "      <td>0</td>\n",
              "      <td>0</td>\n",
              "      <td>0.0</td>\n",
              "      <td>0.0</td>\n",
              "      <td>1.802048e+07</td>\n",
              "      <td>2.462721e+07</td>\n",
              "      <td>45000562</td>\n",
              "      <td>34973</td>\n",
              "      <td>90067231</td>\n",
              "      <td>45033615.5</td>\n",
              "      <td>2714.582933</td>\n",
              "      <td>45035535</td>\n",
              "      <td>45031696</td>\n",
              "      <td>90067440</td>\n",
              "      <td>45033720.0</td>\n",
              "      <td>3715.139028</td>\n",
              "      <td>45036347</td>\n",
              "      <td>45031093</td>\n",
              "      <td>0</td>\n",
              "      <td>0</td>\n",
              "      <td>0</td>\n",
              "      <td>0</td>\n",
              "      <td>60</td>\n",
              "      <td>96</td>\n",
              "      <td>0.033295</td>\n",
              "      <td>0.033295</td>\n",
              "      <td>0</td>\n",
              "      <td>6</td>\n",
              "      <td>3.428571</td>\n",
              "      <td>3.207135</td>\n",
              "      <td>10.285714</td>\n",
              "      <td>0</td>\n",
              "      <td>0</td>\n",
              "      <td>0</td>\n",
              "      <td>0</td>\n",
              "      <td>1</td>\n",
              "      <td>0</td>\n",
              "      <td>0</td>\n",
              "      <td>0</td>\n",
              "      <td>1</td>\n",
              "      <td>4.0</td>\n",
              "      <td>6.0</td>\n",
              "      <td>0.0</td>\n",
              "      <td>60</td>\n",
              "      <td>0</td>\n",
              "      <td>0</td>\n",
              "      <td>0</td>\n",
              "      <td>0</td>\n",
              "      <td>0</td>\n",
              "      <td>0</td>\n",
              "      <td>3</td>\n",
              "      <td>18</td>\n",
              "      <td>3</td>\n",
              "      <td>0</td>\n",
              "      <td>251</td>\n",
              "      <td>66</td>\n",
              "      <td>2</td>\n",
              "      <td>20</td>\n",
              "      <td>35379.0</td>\n",
              "      <td>574.170706</td>\n",
              "      <td>35785</td>\n",
              "      <td>34973</td>\n",
              "      <td>44998236.5</td>\n",
              "      <td>3288.753639</td>\n",
              "      <td>45000562</td>\n",
              "      <td>44995911</td>\n",
              "      <td>0</td>\n",
              "    </tr>\n",
              "  </tbody>\n",
              "</table>\n",
              "</div>"
            ],
            "text/plain": [
              "    X1        X2  X3  X4   X5  ...         X75          X76       X77       X78  YY\n",
              "0   53     31065   2   2   68  ...         0.0     0.000000         0         0   0\n",
              "1  123  67042799   2   2   96  ...  67000000.0     0.000000  67000000  67000000   0\n",
              "2   53     49637   2   2  180  ...         0.0     0.000000         0         0   0\n",
              "3   53     48242   1   1   44  ...         0.0     0.000000         0         0   0\n",
              "4  443  90102413   3   3   18  ...  44998236.5  3288.753639  45000562  44995911   0\n",
              "\n",
              "[5 rows x 77 columns]"
            ]
          },
          "metadata": {
            "tags": []
          },
          "execution_count": 3
        }
      ]
    },
    {
      "cell_type": "code",
      "metadata": {
        "id": "55395xd6w1iA",
        "colab_type": "code",
        "colab": {
          "base_uri": "https://localhost:8080/",
          "height": 272
        },
        "outputId": "bc98e23e-2a0f-466d-cf2f-a5bc52bf51d9"
      },
      "source": [
        "df_train['YY'].value_counts()"
      ],
      "execution_count": 4,
      "outputs": [
        {
          "output_type": "execute_result",
          "data": {
            "text/plain": [
              "0     40000\n",
              "12     8000\n",
              "11     8000\n",
              "10     8000\n",
              "9      8000\n",
              "8      8000\n",
              "7      8000\n",
              "6      8000\n",
              "5      8000\n",
              "4      8000\n",
              "3      8000\n",
              "2      8000\n",
              "1      8000\n",
              "Name: YY, dtype: int64"
            ]
          },
          "metadata": {
            "tags": []
          },
          "execution_count": 4
        }
      ]
    },
    {
      "cell_type": "code",
      "metadata": {
        "id": "ZKMccRp9w9XQ",
        "colab_type": "code",
        "colab": {
          "base_uri": "https://localhost:8080/",
          "height": 72
        },
        "outputId": "4e5824e7-7ff6-461c-9b93-b7c2563da8c5"
      },
      "source": [
        "df_train.iloc[0:40001]['YY'].value_counts()"
      ],
      "execution_count": 5,
      "outputs": [
        {
          "output_type": "execute_result",
          "data": {
            "text/plain": [
              "0    40000\n",
              "1        1\n",
              "Name: YY, dtype: int64"
            ]
          },
          "metadata": {
            "tags": []
          },
          "execution_count": 5
        }
      ]
    },
    {
      "cell_type": "code",
      "metadata": {
        "id": "4SN67tUJytF6",
        "colab_type": "code",
        "colab": {
          "base_uri": "https://localhost:8080/",
          "height": 272
        },
        "outputId": "2fd0d64a-aeeb-48b8-dfd1-af2a0bcdde86"
      },
      "source": [
        "df_train = df_train.iloc[32000:]\n",
        "df_train = df_train.sample(frac=1).reset_index(drop=True) # Here, specifying drop=True prevents .reset_index from creating a column containing the old index entries.\n",
        "df_train['YY'].value_counts()\n",
        "# https://stackoverflow.com/questions/29576430/shuffle-dataframe-rows"
      ],
      "execution_count": 6,
      "outputs": [
        {
          "output_type": "execute_result",
          "data": {
            "text/plain": [
              "12    8000\n",
              "11    8000\n",
              "10    8000\n",
              "9     8000\n",
              "8     8000\n",
              "7     8000\n",
              "6     8000\n",
              "5     8000\n",
              "4     8000\n",
              "3     8000\n",
              "2     8000\n",
              "1     8000\n",
              "0     8000\n",
              "Name: YY, dtype: int64"
            ]
          },
          "metadata": {
            "tags": []
          },
          "execution_count": 6
        }
      ]
    },
    {
      "cell_type": "code",
      "metadata": {
        "id": "D9p8i388iOp9",
        "colab_type": "code",
        "colab": {}
      },
      "source": [
        "y = df_train['YY']\n",
        "z = df_train.iloc[:, :-1].values\n",
        "min_max_scaler = preprocessing.MinMaxScaler()\n",
        "z_scaled = min_max_scaler.fit_transform(z)\n",
        "df_train = pd.DataFrame(z_scaled)\n",
        "df_train['YY'] = y"
      ],
      "execution_count": 7,
      "outputs": []
    },
    {
      "cell_type": "code",
      "metadata": {
        "id": "JSI7Lee4A_mc",
        "colab_type": "code",
        "colab": {
          "base_uri": "https://localhost:8080/",
          "height": 235
        },
        "outputId": "86b0d6bf-95ca-4553-e5a7-5070e931e06d"
      },
      "source": [
        "df_train.iloc[:, -1]"
      ],
      "execution_count": 8,
      "outputs": [
        {
          "output_type": "execute_result",
          "data": {
            "text/plain": [
              "0          6\n",
              "1         11\n",
              "2          8\n",
              "3          8\n",
              "4          1\n",
              "          ..\n",
              "103995     1\n",
              "103996    10\n",
              "103997     7\n",
              "103998     7\n",
              "103999     8\n",
              "Name: YY, Length: 104000, dtype: int64"
            ]
          },
          "metadata": {
            "tags": []
          },
          "execution_count": 8
        }
      ]
    },
    {
      "cell_type": "code",
      "metadata": {
        "id": "_B3FCW4bzLFI",
        "colab_type": "code",
        "colab": {
          "base_uri": "https://localhost:8080/",
          "height": 110
        },
        "outputId": "2b1635bd-6e87-4fbd-d44e-7384bf25d2e5"
      },
      "source": [
        "train_set = df_train[0:83200]\n",
        "#z = train_set.iloc[:, :-1].values\n",
        "#min_max_scaler = preprocessing.MinMaxScaler()\n",
        "#min_max_scaler.fit(z)\n",
        "#y = train_set['YY']\n",
        "#train_set = pd.DataFrame(min_max_scaler.transform(z))\n",
        "#train_set['YY'] = y\n",
        "train_set = torch.tensor(np.array(train_set), dtype=torch.float32)\n",
        "train = torch.narrow(train_set, 1, 0, 76)\n",
        "train_labels = torch.narrow(train_set, 1, 76, 1)\n",
        "train_labels = torch.tensor(train_labels, dtype=torch.int64).squeeze() # squeeze to make 1D instead of 2D\n",
        "\n",
        "val_set = df_train[83200:]\n",
        "#v = val_set.iloc[:, :-1].values\n",
        "#vy = val_set['YY']\n",
        "#val_set = pd.DataFrame(min_max_scaler.transform(v))\n",
        "#val_set['YY'] = vy\n",
        "val_set = torch.tensor(np.array(val_set), dtype=torch.float32)\n",
        "val = torch.narrow(val_set, 1, 0, 76)\n",
        "val_labels = torch.narrow(val_set, 1, 76, 1)\n",
        "val_labels = torch.tensor(val_labels, dtype=torch.int64).squeeze()\n",
        "print(train.shape, train_labels.shape, val.shape, val_labels.shape)"
      ],
      "execution_count": 9,
      "outputs": [
        {
          "output_type": "stream",
          "text": [
            "torch.Size([83200, 76]) torch.Size([83200]) torch.Size([20800, 76]) torch.Size([20800])\n"
          ],
          "name": "stdout"
        },
        {
          "output_type": "stream",
          "text": [
            "/usr/local/lib/python3.6/dist-packages/ipykernel_launcher.py:11: UserWarning: To copy construct from a tensor, it is recommended to use sourceTensor.clone().detach() or sourceTensor.clone().detach().requires_grad_(True), rather than torch.tensor(sourceTensor).\n",
            "  # This is added back by InteractiveShellApp.init_path()\n",
            "/usr/local/lib/python3.6/dist-packages/ipykernel_launcher.py:21: UserWarning: To copy construct from a tensor, it is recommended to use sourceTensor.clone().detach() or sourceTensor.clone().detach().requires_grad_(True), rather than torch.tensor(sourceTensor).\n"
          ],
          "name": "stderr"
        }
      ]
    },
    {
      "cell_type": "code",
      "metadata": {
        "id": "n3tdDbI0xMzi",
        "colab_type": "code",
        "colab": {
          "base_uri": "https://localhost:8080/",
          "height": 35
        },
        "outputId": "fdaa3df8-cdae-44af-ff20-e87be4b4fa3b"
      },
      "source": [
        "train_labels[80000:80002]"
      ],
      "execution_count": 10,
      "outputs": [
        {
          "output_type": "execute_result",
          "data": {
            "text/plain": [
              "tensor([11,  3])"
            ]
          },
          "metadata": {
            "tags": []
          },
          "execution_count": 10
        }
      ]
    },
    {
      "cell_type": "code",
      "metadata": {
        "id": "1tBJjntlAbKb",
        "colab_type": "code",
        "colab": {
          "base_uri": "https://localhost:8080/",
          "height": 35
        },
        "outputId": "fa869cf2-ec87-4f26-ae1f-560f6810c5a5"
      },
      "source": [
        "val_labels[10000:10003]"
      ],
      "execution_count": 11,
      "outputs": [
        {
          "output_type": "execute_result",
          "data": {
            "text/plain": [
              "tensor([9, 8, 6])"
            ]
          },
          "metadata": {
            "tags": []
          },
          "execution_count": 11
        }
      ]
    },
    {
      "cell_type": "code",
      "metadata": {
        "id": "6VkAeFbiAw0D",
        "colab_type": "code",
        "colab": {
          "base_uri": "https://localhost:8080/",
          "height": 35
        },
        "outputId": "00bcc014-4382-475d-cc29-2b007687f328"
      },
      "source": [
        "val_set[10000:10003, -1]"
      ],
      "execution_count": 12,
      "outputs": [
        {
          "output_type": "execute_result",
          "data": {
            "text/plain": [
              "tensor([9., 8., 6.])"
            ]
          },
          "metadata": {
            "tags": []
          },
          "execution_count": 12
        }
      ]
    },
    {
      "cell_type": "code",
      "metadata": {
        "id": "wKohHiNhAeQT",
        "colab_type": "code",
        "colab": {
          "base_uri": "https://localhost:8080/",
          "height": 35
        },
        "outputId": "7eb50b0d-a06d-419e-b9c7-aaf4e8984213"
      },
      "source": [
        "train_labels[45000:45003]"
      ],
      "execution_count": 13,
      "outputs": [
        {
          "output_type": "execute_result",
          "data": {
            "text/plain": [
              "tensor([0, 9, 7])"
            ]
          },
          "metadata": {
            "tags": []
          },
          "execution_count": 13
        }
      ]
    },
    {
      "cell_type": "code",
      "metadata": {
        "id": "pbAW1vCrBcnM",
        "colab_type": "code",
        "colab": {
          "base_uri": "https://localhost:8080/",
          "height": 35
        },
        "outputId": "065d4997-27f9-495f-9953-3ae9ab834471"
      },
      "source": [
        "train_set[45000:45003, -1]"
      ],
      "execution_count": 14,
      "outputs": [
        {
          "output_type": "execute_result",
          "data": {
            "text/plain": [
              "tensor([0., 9., 7.])"
            ]
          },
          "metadata": {
            "tags": []
          },
          "execution_count": 14
        }
      ]
    },
    {
      "cell_type": "code",
      "metadata": {
        "id": "pd5ec1kVzBvC",
        "colab_type": "code",
        "colab": {
          "base_uri": "https://localhost:8080/",
          "height": 54
        },
        "outputId": "ba5d77be-2d4c-41d3-d23a-33a44e8f09e8"
      },
      "source": [
        "\n",
        "\n",
        "x = torch.tensor([[1,2,3], [4,5,6]])\n",
        "torch.narrow(x, 1, 0, 2)"
      ],
      "execution_count": 15,
      "outputs": [
        {
          "output_type": "execute_result",
          "data": {
            "text/plain": [
              "tensor([[1, 2],\n",
              "        [4, 5]])"
            ]
          },
          "metadata": {
            "tags": []
          },
          "execution_count": 15
        }
      ]
    },
    {
      "cell_type": "code",
      "metadata": {
        "id": "yujwvYPEzura",
        "colab_type": "code",
        "colab": {}
      },
      "source": [
        "#train = torch.narrow(train_all, 1, 0, 76)\n",
        "#train_labels = torch.narrow(train_all, 1, 76, 1).squeeze() \n",
        "#train_labels = torch.tensor(train_labels, dtype=torch.int64)"
      ],
      "execution_count": 16,
      "outputs": []
    },
    {
      "cell_type": "code",
      "metadata": {
        "id": "8re17K7Z0Gis",
        "colab_type": "code",
        "colab": {}
      },
      "source": [
        "#train_labels[10000:10002]"
      ],
      "execution_count": 17,
      "outputs": []
    },
    {
      "cell_type": "code",
      "metadata": {
        "id": "aeIstGbk3vvx",
        "colab_type": "code",
        "colab": {}
      },
      "source": [
        "#train_all[10000:10002, -1]"
      ],
      "execution_count": 18,
      "outputs": []
    },
    {
      "cell_type": "code",
      "metadata": {
        "id": "0CYMGrup0LfL",
        "colab_type": "code",
        "colab": {
          "base_uri": "https://localhost:8080/",
          "height": 35
        },
        "outputId": "ed576ad5-d230-4d17-f24a-c2479b010719"
      },
      "source": [
        "device = 'cuda' if torch.cuda.is_available() else 'cpu'\n",
        "device"
      ],
      "execution_count": 19,
      "outputs": [
        {
          "output_type": "execute_result",
          "data": {
            "application/vnd.google.colaboratory.intrinsic+json": {
              "type": "string"
            },
            "text/plain": [
              "'cpu'"
            ]
          },
          "metadata": {
            "tags": []
          },
          "execution_count": 19
        }
      ]
    },
    {
      "cell_type": "code",
      "metadata": {
        "id": "COKhauJ_0k1r",
        "colab_type": "code",
        "colab": {}
      },
      "source": [
        "class RunBuilder():\n",
        "    @staticmethod\n",
        "    def get_runs(params):\n",
        "\n",
        "        Run = namedtuple('Run', params.keys())\n",
        "\n",
        "        runs = []\n",
        "        for v in product(*params.values()):\n",
        "            runs.append(Run(*v))\n",
        "\n",
        "        return runs\n",
        "\n",
        "class RunManager():\n",
        "    def __init__(self):\n",
        "        self.epoch_count = 0\n",
        "        self.epoch_loss = 0\n",
        "        self.epoch_num_correct = 0\n",
        "        self.val_correct = 0\n",
        "        self.epoch_start_time = None\n",
        "        \n",
        "        self.run_params = None\n",
        "        self.run_count = 0\n",
        "        self.run_data = []\n",
        "        self.run_start_time = None\n",
        "        \n",
        "        self.network = None\n",
        "\n",
        "       \n",
        "    def begin_run(self, run, network):\n",
        "        self.run_start_time = time.time()\n",
        "        \n",
        "        self.epoch_count = 0\n",
        "        self.run_params = run\n",
        "        self.run_count += 1\n",
        "        \n",
        "        self.network = network\n",
        "        \n",
        "    def end_run(self):\n",
        "        self.epoch_count = 0\n",
        "    \n",
        "    def begin_epoch(self):\n",
        "        self.epoch_start_time = time.time()\n",
        "        self.epoch_count += 1\n",
        "        self.epoch_loss = 0\n",
        "        self.epoch_num_correct = 0\n",
        "        self.val_correct = 0\n",
        "    \n",
        "    def end_epoch(self):\n",
        "        epoch_duration = time.time() - self.epoch_start_time\n",
        "        run_duration = time.time() - self.run_start_time\n",
        "        \n",
        "        loss = self.epoch_loss / len(train)\n",
        "        train_accuracy = self.epoch_num_correct / len(train)\n",
        "\n",
        "        val_accuracy = self.val_correct/len(validation_set)\n",
        "\n",
        "            \n",
        "        results = OrderedDict()\n",
        "        results[\"run\"] = self.run_count\n",
        "        results['epoch'] = self.epoch_count\n",
        "        results['loss'] = loss\n",
        "        results['train_accuracy'] = train_accuracy\n",
        "        results['val_accuracy'] = val_accuracy\n",
        "        results['epoch duration'] = epoch_duration\n",
        "        results['run duration'] = run_duration\n",
        "        for k, v in self.run_params._asdict().items(): results[k] = v\n",
        "        self.run_data.append(results)\n",
        "        df = pd.DataFrame.from_dict(self.run_data, orient='columns')\n",
        "        clear_output(wait=True)\n",
        "        display(df)\n",
        "    \n",
        "    def track_loss(self, loss):\n",
        "        self.epoch_loss += loss.item() * 10\n",
        "    \n",
        "    def track_num_correct(self, preds, labels):\n",
        "        self.epoch_num_correct += self._get_num_correct(preds, labels)\n",
        "      \n",
        "    def track_val_accuracy(self, model):\n",
        "        with torch.no_grad():\n",
        "            validation_preds = model(validation_set)\n",
        "            self.val_correct += validation_preds.argmax(dim=1).eq(validation_labels).sum().item()\n",
        "   \n",
        "    @torch.no_grad()\n",
        "    def _get_num_correct(self, preds, labels):\n",
        "        return preds.argmax(dim=1).eq(labels).sum().item()\n",
        "    \n",
        "    def save(self, fileName): # save in json and csv\n",
        "        \n",
        "        pd.DataFrame.from_dict(self.run_data, orient='columns').to_csv(f'{fileName}.csv')\n",
        "        \n",
        "        with open(f'{fileName}.json', 'w', encoding='utf-8') as f:\n",
        "            json.dump(self.run_data, f, ensure_ascii=False, indent=4)"
      ],
      "execution_count": 20,
      "outputs": []
    },
    {
      "cell_type": "code",
      "metadata": {
        "id": "TVXiWRmZ0VZr",
        "colab_type": "code",
        "colab": {
          "base_uri": "https://localhost:8080/",
          "height": 785
        },
        "outputId": "b8b7045b-d969-4ba9-905f-c5da563059d4"
      },
      "source": [
        "validation_set = val.to(device)\n",
        "validation_labels = val_labels.to(device)\n",
        "\n",
        "params = OrderedDict(\n",
        "    lr = [0.004],\n",
        "    batch_size = [8],\n",
        "    device = ['cuda'],\n",
        "    weight_decay = [0.0])#, 1.0, 10.0])\n",
        "\n",
        "m = RunManager()\n",
        "for run in RunBuilder.get_runs(params):\n",
        "\n",
        "    network = nn.Sequential(\n",
        "        nn.Linear(in_features=76, out_features=26),\n",
        "        nn.Sigmoid(),\n",
        "        nn.BatchNorm1d(26),\n",
        "        nn.Linear(in_features=26, out_features=13),\n",
        "        nn.Sigmoid()).to(device)\n",
        "    \n",
        "    mini_batches = [train[k:k + run.batch_size] for k in range(0, train_labels.shape[0], run.batch_size)]\n",
        "    mini_labels = [train_labels[k:k + run.batch_size] for k in range(0, train_labels.shape[0], run.batch_size)]\n",
        "    optimizer = optim.Adam(network.parameters(), lr=run.lr, weight_decay=run.weight_decay)\n",
        "    scheduler = optim.lr_scheduler.StepLR(optimizer, step_size=10, gamma=0.5)\n",
        "\n",
        "    m.begin_run(run, network)\n",
        "    for epoch in range(130):\n",
        "        m.begin_epoch()\n",
        "        for b in range(0, len(mini_batches)):\n",
        "            images = mini_batches[b].to(device)\n",
        "            labels = mini_labels[b].to(device)\n",
        "            preds = network(images) # pass batch\n",
        "            loss = F.cross_entropy(preds, labels) # calculate loss\n",
        "            optimizer.zero_grad() # zero gradients\n",
        "            loss.backward() # calculate gradients\n",
        "            optimizer.step() # update weights\n",
        "\n",
        "            m.track_loss(loss)\n",
        "            m.track_num_correct(preds, labels)\n",
        "        m.track_val_accuracy(network)\n",
        "        m.end_epoch()\n",
        "        scheduler.step()\n",
        "    m.end_run()\n",
        "\n",
        "pd.DataFrame.from_dict(m.run_data).sort_values('val_accuracy', ascending=False)[0:15]"
      ],
      "execution_count": 24,
      "outputs": [
        {
          "output_type": "display_data",
          "data": {
            "text/html": [
              "<div>\n",
              "<style scoped>\n",
              "    .dataframe tbody tr th:only-of-type {\n",
              "        vertical-align: middle;\n",
              "    }\n",
              "\n",
              "    .dataframe tbody tr th {\n",
              "        vertical-align: top;\n",
              "    }\n",
              "\n",
              "    .dataframe thead th {\n",
              "        text-align: right;\n",
              "    }\n",
              "</style>\n",
              "<table border=\"1\" class=\"dataframe\">\n",
              "  <thead>\n",
              "    <tr style=\"text-align: right;\">\n",
              "      <th></th>\n",
              "      <th>run</th>\n",
              "      <th>epoch</th>\n",
              "      <th>loss</th>\n",
              "      <th>train_accuracy</th>\n",
              "      <th>val_accuracy</th>\n",
              "      <th>epoch duration</th>\n",
              "      <th>run duration</th>\n",
              "      <th>lr</th>\n",
              "      <th>batch_size</th>\n",
              "      <th>device</th>\n",
              "      <th>weight_decay</th>\n",
              "    </tr>\n",
              "  </thead>\n",
              "  <tbody>\n",
              "    <tr>\n",
              "      <th>0</th>\n",
              "      <td>1</td>\n",
              "      <td>1</td>\n",
              "      <td>2.306713</td>\n",
              "      <td>0.759663</td>\n",
              "      <td>0.809760</td>\n",
              "      <td>12.927616</td>\n",
              "      <td>12.927624</td>\n",
              "      <td>0.04</td>\n",
              "      <td>8</td>\n",
              "      <td>cuda</td>\n",
              "      <td>0.0</td>\n",
              "    </tr>\n",
              "    <tr>\n",
              "      <th>1</th>\n",
              "      <td>1</td>\n",
              "      <td>2</td>\n",
              "      <td>2.271777</td>\n",
              "      <td>0.767776</td>\n",
              "      <td>0.762692</td>\n",
              "      <td>12.776908</td>\n",
              "      <td>25.733067</td>\n",
              "      <td>0.04</td>\n",
              "      <td>8</td>\n",
              "      <td>cuda</td>\n",
              "      <td>0.0</td>\n",
              "    </tr>\n",
              "    <tr>\n",
              "      <th>2</th>\n",
              "      <td>1</td>\n",
              "      <td>3</td>\n",
              "      <td>2.270403</td>\n",
              "      <td>0.790769</td>\n",
              "      <td>0.782212</td>\n",
              "      <td>12.923951</td>\n",
              "      <td>38.684012</td>\n",
              "      <td>0.04</td>\n",
              "      <td>8</td>\n",
              "      <td>cuda</td>\n",
              "      <td>0.0</td>\n",
              "    </tr>\n",
              "    <tr>\n",
              "      <th>3</th>\n",
              "      <td>1</td>\n",
              "      <td>4</td>\n",
              "      <td>2.273617</td>\n",
              "      <td>0.746719</td>\n",
              "      <td>0.815048</td>\n",
              "      <td>13.264088</td>\n",
              "      <td>51.977292</td>\n",
              "      <td>0.04</td>\n",
              "      <td>8</td>\n",
              "      <td>cuda</td>\n",
              "      <td>0.0</td>\n",
              "    </tr>\n",
              "    <tr>\n",
              "      <th>4</th>\n",
              "      <td>1</td>\n",
              "      <td>5</td>\n",
              "      <td>2.281638</td>\n",
              "      <td>0.759940</td>\n",
              "      <td>0.776827</td>\n",
              "      <td>13.469940</td>\n",
              "      <td>65.476236</td>\n",
              "      <td>0.04</td>\n",
              "      <td>8</td>\n",
              "      <td>cuda</td>\n",
              "      <td>0.0</td>\n",
              "    </tr>\n",
              "    <tr>\n",
              "      <th>5</th>\n",
              "      <td>1</td>\n",
              "      <td>6</td>\n",
              "      <td>2.274276</td>\n",
              "      <td>0.759411</td>\n",
              "      <td>0.832837</td>\n",
              "      <td>12.950185</td>\n",
              "      <td>78.454294</td>\n",
              "      <td>0.04</td>\n",
              "      <td>8</td>\n",
              "      <td>cuda</td>\n",
              "      <td>0.0</td>\n",
              "    </tr>\n",
              "    <tr>\n",
              "      <th>6</th>\n",
              "      <td>1</td>\n",
              "      <td>7</td>\n",
              "      <td>2.286409</td>\n",
              "      <td>0.736286</td>\n",
              "      <td>0.687885</td>\n",
              "      <td>13.166167</td>\n",
              "      <td>91.649689</td>\n",
              "      <td>0.04</td>\n",
              "      <td>8</td>\n",
              "      <td>cuda</td>\n",
              "      <td>0.0</td>\n",
              "    </tr>\n",
              "    <tr>\n",
              "      <th>7</th>\n",
              "      <td>1</td>\n",
              "      <td>8</td>\n",
              "      <td>2.281724</td>\n",
              "      <td>0.734363</td>\n",
              "      <td>0.816346</td>\n",
              "      <td>13.063687</td>\n",
              "      <td>104.744966</td>\n",
              "      <td>0.04</td>\n",
              "      <td>8</td>\n",
              "      <td>cuda</td>\n",
              "      <td>0.0</td>\n",
              "    </tr>\n",
              "    <tr>\n",
              "      <th>8</th>\n",
              "      <td>1</td>\n",
              "      <td>9</td>\n",
              "      <td>2.273503</td>\n",
              "      <td>0.766346</td>\n",
              "      <td>0.849808</td>\n",
              "      <td>13.139236</td>\n",
              "      <td>117.913327</td>\n",
              "      <td>0.04</td>\n",
              "      <td>8</td>\n",
              "      <td>cuda</td>\n",
              "      <td>0.0</td>\n",
              "    </tr>\n",
              "    <tr>\n",
              "      <th>9</th>\n",
              "      <td>1</td>\n",
              "      <td>10</td>\n",
              "      <td>2.287286</td>\n",
              "      <td>0.751466</td>\n",
              "      <td>0.759760</td>\n",
              "      <td>13.417855</td>\n",
              "      <td>131.362272</td>\n",
              "      <td>0.04</td>\n",
              "      <td>8</td>\n",
              "      <td>cuda</td>\n",
              "      <td>0.0</td>\n",
              "    </tr>\n",
              "    <tr>\n",
              "      <th>10</th>\n",
              "      <td>1</td>\n",
              "      <td>11</td>\n",
              "      <td>2.255632</td>\n",
              "      <td>0.792115</td>\n",
              "      <td>0.870337</td>\n",
              "      <td>14.971909</td>\n",
              "      <td>146.363974</td>\n",
              "      <td>0.04</td>\n",
              "      <td>8</td>\n",
              "      <td>cuda</td>\n",
              "      <td>0.0</td>\n",
              "    </tr>\n",
              "    <tr>\n",
              "      <th>11</th>\n",
              "      <td>1</td>\n",
              "      <td>12</td>\n",
              "      <td>2.240010</td>\n",
              "      <td>0.810096</td>\n",
              "      <td>0.842837</td>\n",
              "      <td>13.236618</td>\n",
              "      <td>159.631494</td>\n",
              "      <td>0.04</td>\n",
              "      <td>8</td>\n",
              "      <td>cuda</td>\n",
              "      <td>0.0</td>\n",
              "    </tr>\n",
              "  </tbody>\n",
              "</table>\n",
              "</div>"
            ],
            "text/plain": [
              "    run  epoch      loss  train_accuracy  ...    lr  batch_size  device  weight_decay\n",
              "0     1      1  2.306713        0.759663  ...  0.04           8    cuda           0.0\n",
              "1     1      2  2.271777        0.767776  ...  0.04           8    cuda           0.0\n",
              "2     1      3  2.270403        0.790769  ...  0.04           8    cuda           0.0\n",
              "3     1      4  2.273617        0.746719  ...  0.04           8    cuda           0.0\n",
              "4     1      5  2.281638        0.759940  ...  0.04           8    cuda           0.0\n",
              "5     1      6  2.274276        0.759411  ...  0.04           8    cuda           0.0\n",
              "6     1      7  2.286409        0.736286  ...  0.04           8    cuda           0.0\n",
              "7     1      8  2.281724        0.734363  ...  0.04           8    cuda           0.0\n",
              "8     1      9  2.273503        0.766346  ...  0.04           8    cuda           0.0\n",
              "9     1     10  2.287286        0.751466  ...  0.04           8    cuda           0.0\n",
              "10    1     11  2.255632        0.792115  ...  0.04           8    cuda           0.0\n",
              "11    1     12  2.240010        0.810096  ...  0.04           8    cuda           0.0\n",
              "\n",
              "[12 rows x 11 columns]"
            ]
          },
          "metadata": {
            "tags": []
          }
        },
        {
          "output_type": "error",
          "ename": "KeyboardInterrupt",
          "evalue": "ignored",
          "traceback": [
            "\u001b[0;31m---------------------------------------------------------------------------\u001b[0m",
            "\u001b[0;31mKeyboardInterrupt\u001b[0m                         Traceback (most recent call last)",
            "\u001b[0;32m<ipython-input-24-608b116e71af>\u001b[0m in \u001b[0;36m<module>\u001b[0;34m()\u001b[0m\n\u001b[1;32m     32\u001b[0m             \u001b[0mloss\u001b[0m \u001b[0;34m=\u001b[0m \u001b[0mF\u001b[0m\u001b[0;34m.\u001b[0m\u001b[0mcross_entropy\u001b[0m\u001b[0;34m(\u001b[0m\u001b[0mpreds\u001b[0m\u001b[0;34m,\u001b[0m \u001b[0mlabels\u001b[0m\u001b[0;34m)\u001b[0m \u001b[0;31m# calculate loss\u001b[0m\u001b[0;34m\u001b[0m\u001b[0;34m\u001b[0m\u001b[0m\n\u001b[1;32m     33\u001b[0m             \u001b[0moptimizer\u001b[0m\u001b[0;34m.\u001b[0m\u001b[0mzero_grad\u001b[0m\u001b[0;34m(\u001b[0m\u001b[0;34m)\u001b[0m \u001b[0;31m# zero gradients\u001b[0m\u001b[0;34m\u001b[0m\u001b[0;34m\u001b[0m\u001b[0m\n\u001b[0;32m---> 34\u001b[0;31m             \u001b[0mloss\u001b[0m\u001b[0;34m.\u001b[0m\u001b[0mbackward\u001b[0m\u001b[0;34m(\u001b[0m\u001b[0;34m)\u001b[0m \u001b[0;31m# calculate gradients\u001b[0m\u001b[0;34m\u001b[0m\u001b[0;34m\u001b[0m\u001b[0m\n\u001b[0m\u001b[1;32m     35\u001b[0m             \u001b[0moptimizer\u001b[0m\u001b[0;34m.\u001b[0m\u001b[0mstep\u001b[0m\u001b[0;34m(\u001b[0m\u001b[0;34m)\u001b[0m \u001b[0;31m# update weights\u001b[0m\u001b[0;34m\u001b[0m\u001b[0;34m\u001b[0m\u001b[0m\n\u001b[1;32m     36\u001b[0m \u001b[0;34m\u001b[0m\u001b[0m\n",
            "\u001b[0;32m/usr/local/lib/python3.6/dist-packages/torch/tensor.py\u001b[0m in \u001b[0;36mbackward\u001b[0;34m(self, gradient, retain_graph, create_graph)\u001b[0m\n\u001b[1;32m    196\u001b[0m                 \u001b[0mproducts\u001b[0m\u001b[0;34m.\u001b[0m \u001b[0mDefaults\u001b[0m \u001b[0mto\u001b[0m\u001b[0;31m \u001b[0m\u001b[0;31m`\u001b[0m\u001b[0;31m`\u001b[0m\u001b[0;32mFalse\u001b[0m\u001b[0;31m`\u001b[0m\u001b[0;31m`\u001b[0m\u001b[0;34m.\u001b[0m\u001b[0;34m\u001b[0m\u001b[0;34m\u001b[0m\u001b[0m\n\u001b[1;32m    197\u001b[0m         \"\"\"\n\u001b[0;32m--> 198\u001b[0;31m         \u001b[0mtorch\u001b[0m\u001b[0;34m.\u001b[0m\u001b[0mautograd\u001b[0m\u001b[0;34m.\u001b[0m\u001b[0mbackward\u001b[0m\u001b[0;34m(\u001b[0m\u001b[0mself\u001b[0m\u001b[0;34m,\u001b[0m \u001b[0mgradient\u001b[0m\u001b[0;34m,\u001b[0m \u001b[0mretain_graph\u001b[0m\u001b[0;34m,\u001b[0m \u001b[0mcreate_graph\u001b[0m\u001b[0;34m)\u001b[0m\u001b[0;34m\u001b[0m\u001b[0;34m\u001b[0m\u001b[0m\n\u001b[0m\u001b[1;32m    199\u001b[0m \u001b[0;34m\u001b[0m\u001b[0m\n\u001b[1;32m    200\u001b[0m     \u001b[0;32mdef\u001b[0m \u001b[0mregister_hook\u001b[0m\u001b[0;34m(\u001b[0m\u001b[0mself\u001b[0m\u001b[0;34m,\u001b[0m \u001b[0mhook\u001b[0m\u001b[0;34m)\u001b[0m\u001b[0;34m:\u001b[0m\u001b[0;34m\u001b[0m\u001b[0;34m\u001b[0m\u001b[0m\n",
            "\u001b[0;32m/usr/local/lib/python3.6/dist-packages/torch/autograd/__init__.py\u001b[0m in \u001b[0;36mbackward\u001b[0;34m(tensors, grad_tensors, retain_graph, create_graph, grad_variables)\u001b[0m\n\u001b[1;32m     98\u001b[0m     Variable._execution_engine.run_backward(\n\u001b[1;32m     99\u001b[0m         \u001b[0mtensors\u001b[0m\u001b[0;34m,\u001b[0m \u001b[0mgrad_tensors\u001b[0m\u001b[0;34m,\u001b[0m \u001b[0mretain_graph\u001b[0m\u001b[0;34m,\u001b[0m \u001b[0mcreate_graph\u001b[0m\u001b[0;34m,\u001b[0m\u001b[0;34m\u001b[0m\u001b[0;34m\u001b[0m\u001b[0m\n\u001b[0;32m--> 100\u001b[0;31m         allow_unreachable=True)  # allow_unreachable flag\n\u001b[0m\u001b[1;32m    101\u001b[0m \u001b[0;34m\u001b[0m\u001b[0m\n\u001b[1;32m    102\u001b[0m \u001b[0;34m\u001b[0m\u001b[0m\n",
            "\u001b[0;31mKeyboardInterrupt\u001b[0m: "
          ]
        }
      ]
    },
    {
      "cell_type": "code",
      "metadata": {
        "id": "pR5rsqRo2KPV",
        "colab_type": "code",
        "colab": {}
      },
      "source": [
        "m.save('cicids_batch_lr_grid_search_validation')"
      ],
      "execution_count": 139,
      "outputs": []
    },
    {
      "cell_type": "markdown",
      "metadata": {
        "id": "JhQPvHAY4wiS",
        "colab_type": "text"
      },
      "source": [
        "# Best Run Data\n",
        "![image.png](data:image/png;base64,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)\n"
      ]
    },
    {
      "cell_type": "code",
      "metadata": {
        "id": "cICQBF_m5iel",
        "colab_type": "code",
        "colab": {
          "base_uri": "https://localhost:8080/",
          "height": 35
        },
        "outputId": "20b88233-e490-41d5-9a70-d6ee1839750a"
      },
      "source": [
        "m.val_correct"
      ],
      "execution_count": 97,
      "outputs": [
        {
          "output_type": "execute_result",
          "data": {
            "text/plain": [
              "0"
            ]
          },
          "metadata": {
            "tags": []
          },
          "execution_count": 97
        }
      ]
    },
    {
      "cell_type": "code",
      "metadata": {
        "id": "YDrkwzfJC4XO",
        "colab_type": "code",
        "colab": {}
      },
      "source": [
        "x=network(validation_set)"
      ],
      "execution_count": 98,
      "outputs": []
    },
    {
      "cell_type": "code",
      "metadata": {
        "id": "tkccL9GpDI4C",
        "colab_type": "code",
        "colab": {}
      },
      "source": [
        "val_corr = 0\n",
        "val_corr += x.argmax(dim=1).eq(validation_labels).sum().item()"
      ],
      "execution_count": 100,
      "outputs": []
    },
    {
      "cell_type": "code",
      "metadata": {
        "id": "-JFoJf_jDUa6",
        "colab_type": "code",
        "colab": {
          "base_uri": "https://localhost:8080/",
          "height": 72
        },
        "outputId": "dfe994cf-9151-45c5-f296-b00ad5f1da59"
      },
      "source": [
        "x.argmax(dim=1)[999:1043]"
      ],
      "execution_count": 108,
      "outputs": [
        {
          "output_type": "execute_result",
          "data": {
            "text/plain": [
              "tensor([0, 1, 0, 0, 0, 0, 0, 0, 0, 1, 1, 0, 1, 0, 0, 1, 1, 0, 1, 0, 0, 0, 1, 0,\n",
              "        0, 0, 0, 1, 0, 1, 0, 0, 0, 4, 3, 0, 0, 0, 0, 0, 0, 0, 2, 0],\n",
              "       device='cuda:0')"
            ]
          },
          "metadata": {
            "tags": []
          },
          "execution_count": 108
        }
      ]
    },
    {
      "cell_type": "code",
      "metadata": {
        "id": "CTUjyxY-DX5j",
        "colab_type": "code",
        "colab": {
          "base_uri": "https://localhost:8080/",
          "height": 35
        },
        "outputId": "b55e7adc-3427-4c20-a5a3-dc6c5940e079"
      },
      "source": [
        "validation_labels"
      ],
      "execution_count": 110,
      "outputs": [
        {
          "output_type": "execute_result",
          "data": {
            "text/plain": [
              "tensor([10, 10, 10,  ..., 12, 12, 12], device='cuda:0')"
            ]
          },
          "metadata": {
            "tags": []
          },
          "execution_count": 110
        }
      ]
    },
    {
      "cell_type": "code",
      "metadata": {
        "id": "aDpgpOpMDn9w",
        "colab_type": "code",
        "colab": {}
      },
      "source": [
        ""
      ],
      "execution_count": null,
      "outputs": []
    }
  ]
}